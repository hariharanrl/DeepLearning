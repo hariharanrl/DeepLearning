{
  "nbformat": 4,
  "nbformat_minor": 0,
  "metadata": {
    "colab": {
      "name": "Project_AugData.ipynb",
      "provenance": [],
      "collapsed_sections": [],
      "machine_shape": "hm",
      "mount_file_id": "17GAYNnPVcG6NM-RB4FkaU1gBghSAIxnW",
      "authorship_tag": "ABX9TyNp4pZmwGqaYae7fh4YarAx",
      "include_colab_link": true
    },
    "kernelspec": {
      "name": "python3",
      "display_name": "Python 3"
    },
    "accelerator": "GPU"
  },
  "cells": [
    {
      "cell_type": "markdown",
      "metadata": {
        "id": "view-in-github",
        "colab_type": "text"
      },
      "source": [
        "<a href=\"https://colab.research.google.com/github/hariharanrl/DeepLearning/blob/master/Project_AugData.ipynb\" target=\"_parent\"><img src=\"https://colab.research.google.com/assets/colab-badge.svg\" alt=\"Open In Colab\"/></a>"
      ]
    },
    {
      "cell_type": "code",
      "metadata": {
        "id": "qA9yat0Bu34Z",
        "colab_type": "code",
        "outputId": "d0474b74-5224-461d-a124-21e3dca524ec",
        "colab": {
          "base_uri": "https://localhost:8080/",
          "height": 34
        }
      },
      "source": [
        "#!pip3 install tensorflow==1.12.0 \n",
        "%tensorflow_version 1.x"
      ],
      "execution_count": 1,
      "outputs": [
        {
          "output_type": "stream",
          "text": [
            "TensorFlow 1.x selected.\n"
          ],
          "name": "stdout"
        }
      ]
    },
    {
      "cell_type": "markdown",
      "metadata": {
        "id": "3EkUKlBvK-Kd",
        "colab_type": "text"
      },
      "source": [
        "##Mount the Drive"
      ]
    },
    {
      "cell_type": "code",
      "metadata": {
        "id": "dybAokJf19M1",
        "colab_type": "code",
        "outputId": "9cd9c9b2-39be-4342-bfbe-b997b6deac8b",
        "colab": {
          "base_uri": "https://localhost:8080/",
          "height": 34
        }
      },
      "source": [
        "import os\n",
        "os.chdir('/content/drive/My Drive/NITK/Deep Learning Course 2020/classification data/Aug_PCB')\n",
        "os.getcwd()"
      ],
      "execution_count": 2,
      "outputs": [
        {
          "output_type": "execute_result",
          "data": {
            "text/plain": [
              "'/content/drive/My Drive/NITK/Deep Learning Course 2020/classification data/Aug_PCB'"
            ]
          },
          "metadata": {
            "tags": []
          },
          "execution_count": 2
        }
      ]
    },
    {
      "cell_type": "markdown",
      "metadata": {
        "id": "4S0UcpEn5h5X",
        "colab_type": "text"
      },
      "source": [
        "##Loading Training and Testing Data"
      ]
    },
    {
      "cell_type": "code",
      "metadata": {
        "id": "iIJJU95N5e4O",
        "colab_type": "code",
        "outputId": "396e5437-2b52-484a-da8d-67b8c533c0e0",
        "colab": {
          "base_uri": "https://localhost:8080/",
          "height": 84
        }
      },
      "source": [
        "import numpy as np\n",
        "from sklearn.model_selection import train_test_split\n",
        "x= np.load(\"s_x_train.npy\")\n",
        "y= np.load(\"s_y_train.npy\")\n",
        "print(x.shape)\n",
        "print(y.shape)\n",
        "X_train,X_test,y_train,y_test = train_test_split(x,y,test_size=0.2)\n",
        "print(X_train.shape,y_train.shape)\n",
        "print(X_test.shape,y_test.shape)"
      ],
      "execution_count": 3,
      "outputs": [
        {
          "output_type": "stream",
          "text": [
            "(5040, 300, 300, 3)\n",
            "(5040,)\n",
            "(4032, 300, 300, 3) (4032,)\n",
            "(1008, 300, 300, 3) (1008,)\n"
          ],
          "name": "stdout"
        }
      ]
    },
    {
      "cell_type": "markdown",
      "metadata": {
        "id": "P1mtm2XWH5hM",
        "colab_type": "text"
      },
      "source": [
        "##Data Normalization"
      ]
    },
    {
      "cell_type": "code",
      "metadata": {
        "id": "_Kt8gK8c7lNy",
        "colab_type": "code",
        "outputId": "6df02ee3-9126-4d9f-b8df-0bb8a4d22204",
        "colab": {
          "base_uri": "https://localhost:8080/",
          "height": 67
        }
      },
      "source": [
        "import keras\n",
        "X_train = X_train.astype('float32')\n",
        "X_test  = X_test.astype('float32')\n",
        "X_train=keras.utils.normalize(X_train, axis=-1, order=2)\n",
        "X_test=keras.utils.normalize(X_test, axis=-1, order=2)\n",
        "print(np.max(X_train),np.max(X_test))\n",
        "print(np.min(X_train),np.min(X_test))\n"
      ],
      "execution_count": 4,
      "outputs": [
        {
          "output_type": "stream",
          "text": [
            "Using TensorFlow backend.\n"
          ],
          "name": "stderr"
        },
        {
          "output_type": "stream",
          "text": [
            "1.0 1.0\n",
            "0.0 0.0\n"
          ],
          "name": "stdout"
        }
      ]
    },
    {
      "cell_type": "markdown",
      "metadata": {
        "id": "nLDnBbHbNu01",
        "colab_type": "text"
      },
      "source": [
        "##Categorizing the Label"
      ]
    },
    {
      "cell_type": "code",
      "metadata": {
        "id": "mrT0iXAsN-VZ",
        "colab_type": "code",
        "outputId": "76a5dbf6-87c0-4383-82fa-04b0a84b6583",
        "colab": {
          "base_uri": "https://localhost:8080/",
          "height": 67
        }
      },
      "source": [
        "#X_train = X_train.reshape(X_train.shape[1]*X_train.shape[2],300,300,3)\n",
        "#X_test =  X_test.reshape(X_test.shape[0],300,300,1)\n",
        "#print(X_train.shape)\n",
        "#print(y_test.shape)\n",
        "y_train = keras.utils.np_utils.to_categorical(y_train)\n",
        "y_test = keras.utils.np_utils.to_categorical(y_test)\n",
        "num_classes=y_test.shape[1]\n",
        "print(y_train.shape)\n",
        "print(y_test.shape)\n",
        "print(num_classes)\n",
        "\n"
      ],
      "execution_count": 5,
      "outputs": [
        {
          "output_type": "stream",
          "text": [
            "(4032, 2)\n",
            "(1008, 2)\n",
            "2\n"
          ],
          "name": "stdout"
        }
      ]
    },
    {
      "cell_type": "markdown",
      "metadata": {
        "id": "NADIISA-LPk_",
        "colab_type": "text"
      },
      "source": [
        "##Building Alexnet Model"
      ]
    },
    {
      "cell_type": "code",
      "metadata": {
        "id": "MWDFmnbPYlRz",
        "colab_type": "code",
        "colab": {}
      },
      "source": [
        "def proj_model():\n",
        "  #import tensorflow as tf\n",
        "  from keras.models import Sequential\n",
        "  from keras.layers import Dense\n",
        "  from keras.layers import Dropout\n",
        "  from keras.layers import Flatten\n",
        "  from keras.constraints import maxnorm\n",
        "  from keras.optimizers import SGD\n",
        "  from keras.layers.convolutional import Conv2D\n",
        "  from keras.layers import BatchNormalization\n",
        "  from keras.layers.convolutional import MaxPooling2D\n",
        "  from keras.utils import np_utils\n",
        "\n",
        "  model=Sequential()\n",
        "          \n",
        "  model.add(Conv2D(32, (3, 3), input_shape=(300, 300, 3), activation='relu',padding='same'))\n",
        "  model.add(MaxPooling2D(pool_size=(2, 2)))\n",
        "    \n",
        "    \n",
        "  model.add(Conv2D(32, (3, 3), activation='relu',padding='same'))\n",
        "  model.add(MaxPooling2D(pool_size=(2, 2)))\n",
        "    \n",
        "  model.add(Conv2D(64, (3, 3), activation='relu',padding='same'))\n",
        "  model.add(MaxPooling2D(pool_size=(2, 2)))\n",
        "    \n",
        "    \n",
        "  model.add(Conv2D(128, (3, 3), activation='relu',padding='same'))\n",
        "  model.add(MaxPooling2D(pool_size=(2, 2)))\n",
        "    \n",
        "  model.add(Conv2D(128, (3, 3), activation='relu',padding='same'))\n",
        "  model.add(MaxPooling2D(pool_size=(2, 2)))\n",
        "\n",
        "  model.add(Dropout(0.5))\n",
        "  model.add(Flatten())\n",
        "    \n",
        "  model.add(Dense(1024, activation='relu'))\n",
        "  model.add(Dense(512, activation='relu'))\n",
        "    \n",
        "  model.add(Dense(num_classes, activation='softmax'))\n",
        "    \n",
        "  lrate = 0.01\n",
        "  epochs=25\n",
        "  decay = lrate/epochs\n",
        "  sgd = SGD(lr=lrate, momentum=0.9, decay=decay, nesterov=False)\n",
        "  model.compile(loss='categorical_crossentropy', optimizer=sgd, metrics=['accuracy'])\n",
        "    \n",
        "  return model\n"
      ],
      "execution_count": 0,
      "outputs": []
    },
    {
      "cell_type": "markdown",
      "metadata": {
        "id": "1kKtMTghLZX6",
        "colab_type": "text"
      },
      "source": [
        "##Model Summary"
      ]
    },
    {
      "cell_type": "code",
      "metadata": {
        "id": "87Fwc5cDR6cb",
        "colab_type": "code",
        "outputId": "675661b0-e42a-4a52-f30d-5a01a5041303",
        "colab": {
          "base_uri": "https://localhost:8080/",
          "height": 759
        }
      },
      "source": [
        "model=proj_model()\n",
        "model.summary()"
      ],
      "execution_count": 7,
      "outputs": [
        {
          "output_type": "stream",
          "text": [
            "WARNING:tensorflow:From /tensorflow-1.15.2/python3.6/tensorflow_core/python/ops/resource_variable_ops.py:1630: calling BaseResourceVariable.__init__ (from tensorflow.python.ops.resource_variable_ops) with constraint is deprecated and will be removed in a future version.\n",
            "Instructions for updating:\n",
            "If using Keras pass *_constraint arguments to layers.\n",
            "WARNING:tensorflow:From /usr/local/lib/python3.6/dist-packages/keras/backend/tensorflow_backend.py:4070: The name tf.nn.max_pool is deprecated. Please use tf.nn.max_pool2d instead.\n",
            "\n",
            "Model: \"sequential_1\"\n",
            "_________________________________________________________________\n",
            "Layer (type)                 Output Shape              Param #   \n",
            "=================================================================\n",
            "conv2d_1 (Conv2D)            (None, 300, 300, 32)      896       \n",
            "_________________________________________________________________\n",
            "max_pooling2d_1 (MaxPooling2 (None, 150, 150, 32)      0         \n",
            "_________________________________________________________________\n",
            "conv2d_2 (Conv2D)            (None, 150, 150, 32)      9248      \n",
            "_________________________________________________________________\n",
            "max_pooling2d_2 (MaxPooling2 (None, 75, 75, 32)        0         \n",
            "_________________________________________________________________\n",
            "conv2d_3 (Conv2D)            (None, 75, 75, 64)        18496     \n",
            "_________________________________________________________________\n",
            "max_pooling2d_3 (MaxPooling2 (None, 37, 37, 64)        0         \n",
            "_________________________________________________________________\n",
            "conv2d_4 (Conv2D)            (None, 37, 37, 128)       73856     \n",
            "_________________________________________________________________\n",
            "max_pooling2d_4 (MaxPooling2 (None, 18, 18, 128)       0         \n",
            "_________________________________________________________________\n",
            "conv2d_5 (Conv2D)            (None, 18, 18, 128)       147584    \n",
            "_________________________________________________________________\n",
            "max_pooling2d_5 (MaxPooling2 (None, 9, 9, 128)         0         \n",
            "_________________________________________________________________\n",
            "dropout_1 (Dropout)          (None, 9, 9, 128)         0         \n",
            "_________________________________________________________________\n",
            "flatten_1 (Flatten)          (None, 10368)             0         \n",
            "_________________________________________________________________\n",
            "dense_1 (Dense)              (None, 1024)              10617856  \n",
            "_________________________________________________________________\n",
            "dense_2 (Dense)              (None, 512)               524800    \n",
            "_________________________________________________________________\n",
            "dense_3 (Dense)              (None, 2)                 1026      \n",
            "=================================================================\n",
            "Total params: 11,393,762\n",
            "Trainable params: 11,393,762\n",
            "Non-trainable params: 0\n",
            "_________________________________________________________________\n"
          ],
          "name": "stdout"
        }
      ]
    },
    {
      "cell_type": "markdown",
      "metadata": {
        "id": "qAU2vOvxLff0",
        "colab_type": "text"
      },
      "source": [
        "##Callbacks"
      ]
    },
    {
      "cell_type": "code",
      "metadata": {
        "id": "TGDUYXHjnEvB",
        "colab_type": "code",
        "colab": {}
      },
      "source": [
        "import os\n",
        "os.chdir(\"/content/drive/My Drive/NITK\")\n",
        "from keras.callbacks import ModelCheckpoint, TensorBoard, CSVLogger\n",
        "mc = ModelCheckpoint('ProjectAug.h5', monitor='val_loss', save_best_only=True)\n",
        "tb = TensorBoard(log_dir='/content/drive/My Drive/NITK/logs2', write_graph=True, write_grads=False, write_images=False, embeddings_freq=0, update_freq='epoch')\n",
        "cv = CSVLogger('ProjectAug.csv',append=True)"
      ],
      "execution_count": 0,
      "outputs": []
    },
    {
      "cell_type": "markdown",
      "metadata": {
        "id": "eG0ELaJpLzPw",
        "colab_type": "text"
      },
      "source": [
        "##Model Fitting"
      ]
    },
    {
      "cell_type": "code",
      "metadata": {
        "id": "gh4G_tWOtTMG",
        "colab_type": "code",
        "outputId": "ca5ca06c-6b85-4926-832a-a19970d89adf",
        "colab": {
          "base_uri": "https://localhost:8080/",
          "height": 1000
        }
      },
      "source": [
        "histoy=model.fit(X_train, y_train, validation_split=(0.2), epochs=25, batch_size=32,verbose=2,callbacks=[cv,mc,tb])\n",
        "#histoy=model.fit(X_train,y_train,validation_split=(0.2),epochs=30,batch_size=32,verbose=2)"
      ],
      "execution_count": 9,
      "outputs": [
        {
          "output_type": "stream",
          "text": [
            "WARNING:tensorflow:From /usr/local/lib/python3.6/dist-packages/keras/backend/tensorflow_backend.py:422: The name tf.global_variables is deprecated. Please use tf.compat.v1.global_variables instead.\n",
            "\n",
            "Train on 3225 samples, validate on 807 samples\n",
            "WARNING:tensorflow:From /usr/local/lib/python3.6/dist-packages/keras/callbacks/tensorboard_v1.py:200: The name tf.summary.merge_all is deprecated. Please use tf.compat.v1.summary.merge_all instead.\n",
            "\n",
            "WARNING:tensorflow:From /usr/local/lib/python3.6/dist-packages/keras/callbacks/tensorboard_v1.py:203: The name tf.summary.FileWriter is deprecated. Please use tf.compat.v1.summary.FileWriter instead.\n",
            "\n",
            "Epoch 1/25\n",
            " - 12s - loss: 0.6803 - accuracy: 0.5398 - val_loss: 0.6760 - val_accuracy: 0.5799\n",
            "WARNING:tensorflow:From /usr/local/lib/python3.6/dist-packages/keras/callbacks/tensorboard_v1.py:343: The name tf.Summary is deprecated. Please use tf.compat.v1.Summary instead.\n",
            "\n",
            "Epoch 2/25\n",
            " - 6s - loss: 0.6234 - accuracy: 0.6195 - val_loss: 0.5902 - val_accuracy: 0.6481\n",
            "Epoch 3/25\n",
            " - 6s - loss: 0.5972 - accuracy: 0.6412 - val_loss: 0.5869 - val_accuracy: 0.6989\n",
            "Epoch 4/25\n",
            " - 6s - loss: 0.5223 - accuracy: 0.7340 - val_loss: 0.4380 - val_accuracy: 0.8178\n",
            "Epoch 5/25\n",
            " - 6s - loss: 0.4075 - accuracy: 0.8307 - val_loss: 0.5328 - val_accuracy: 0.8377\n",
            "Epoch 6/25\n",
            " - 6s - loss: 0.3122 - accuracy: 0.8729 - val_loss: 0.2792 - val_accuracy: 0.8810\n",
            "Epoch 7/25\n",
            " - 6s - loss: 0.2505 - accuracy: 0.8943 - val_loss: 0.3376 - val_accuracy: 0.8786\n",
            "Epoch 8/25\n",
            " - 6s - loss: 0.2275 - accuracy: 0.8980 - val_loss: 0.2770 - val_accuracy: 0.8959\n",
            "Epoch 9/25\n",
            " - 6s - loss: 0.1900 - accuracy: 0.9178 - val_loss: 0.1990 - val_accuracy: 0.9157\n",
            "Epoch 10/25\n",
            " - 6s - loss: 0.1497 - accuracy: 0.9395 - val_loss: 0.1889 - val_accuracy: 0.9343\n",
            "Epoch 11/25\n",
            " - 6s - loss: 0.1351 - accuracy: 0.9420 - val_loss: 0.1728 - val_accuracy: 0.9380\n",
            "Epoch 12/25\n",
            " - 6s - loss: 0.0941 - accuracy: 0.9603 - val_loss: 0.2008 - val_accuracy: 0.9356\n",
            "Epoch 13/25\n",
            " - 6s - loss: 0.0794 - accuracy: 0.9681 - val_loss: 0.1506 - val_accuracy: 0.9665\n",
            "Epoch 14/25\n",
            " - 6s - loss: 0.0598 - accuracy: 0.9777 - val_loss: 0.2179 - val_accuracy: 0.9356\n",
            "Epoch 15/25\n",
            " - 6s - loss: 0.0552 - accuracy: 0.9817 - val_loss: 0.2220 - val_accuracy: 0.9492\n",
            "Epoch 16/25\n",
            " - 6s - loss: 0.0533 - accuracy: 0.9795 - val_loss: 0.1608 - val_accuracy: 0.9566\n",
            "Epoch 17/25\n",
            " - 6s - loss: 0.0507 - accuracy: 0.9836 - val_loss: 0.1269 - val_accuracy: 0.9628\n",
            "Epoch 18/25\n",
            " - 6s - loss: 0.0333 - accuracy: 0.9885 - val_loss: 0.3040 - val_accuracy: 0.9455\n",
            "Epoch 19/25\n",
            " - 6s - loss: 0.0357 - accuracy: 0.9864 - val_loss: 0.1446 - val_accuracy: 0.9665\n",
            "Epoch 20/25\n",
            " - 6s - loss: 0.0370 - accuracy: 0.9901 - val_loss: 0.1688 - val_accuracy: 0.9628\n",
            "Epoch 21/25\n",
            " - 6s - loss: 0.0349 - accuracy: 0.9885 - val_loss: 0.1693 - val_accuracy: 0.9703\n",
            "Epoch 22/25\n",
            " - 6s - loss: 0.0204 - accuracy: 0.9922 - val_loss: 0.2670 - val_accuracy: 0.9603\n",
            "Epoch 23/25\n",
            " - 6s - loss: 0.0330 - accuracy: 0.9888 - val_loss: 0.2524 - val_accuracy: 0.9517\n",
            "Epoch 24/25\n",
            " - 6s - loss: 0.0202 - accuracy: 0.9929 - val_loss: 0.1946 - val_accuracy: 0.9678\n",
            "Epoch 25/25\n",
            " - 6s - loss: 0.0158 - accuracy: 0.9938 - val_loss: 0.1608 - val_accuracy: 0.9715\n"
          ],
          "name": "stdout"
        }
      ]
    },
    {
      "cell_type": "markdown",
      "metadata": {
        "id": "jvjwHmYpL5kO",
        "colab_type": "text"
      },
      "source": [
        "##Overall Accuracy "
      ]
    },
    {
      "cell_type": "code",
      "metadata": {
        "id": "vn8zygnVxrCr",
        "colab_type": "code",
        "outputId": "8c0012c8-7fb6-4c0b-9a2e-f91bafc74251",
        "colab": {
          "base_uri": "https://localhost:8080/",
          "height": 67
        }
      },
      "source": [
        "test_loss,test_acc=model.evaluate(X_test,y_test)\n",
        "print(test_acc)\n",
        "print(test_loss)"
      ],
      "execution_count": 10,
      "outputs": [
        {
          "output_type": "stream",
          "text": [
            "1008/1008 [==============================] - 1s 978us/step\n",
            "0.9791666865348816\n",
            "0.11454975715513149\n"
          ],
          "name": "stdout"
        }
      ]
    },
    {
      "cell_type": "code",
      "metadata": {
        "id": "GYbPPFYOP9I1",
        "colab_type": "code",
        "colab": {
          "base_uri": "https://localhost:8080/",
          "height": 134
        },
        "outputId": "ab4387bf-a6c9-4c96-d0fa-e3666b2ab5c3"
      },
      "source": [
        "histoy.params"
      ],
      "execution_count": 11,
      "outputs": [
        {
          "output_type": "execute_result",
          "data": {
            "text/plain": [
              "{'batch_size': 32,\n",
              " 'do_validation': True,\n",
              " 'epochs': 25,\n",
              " 'metrics': ['loss', 'accuracy', 'val_loss', 'val_accuracy'],\n",
              " 'samples': 3225,\n",
              " 'steps': None,\n",
              " 'verbose': 2}"
            ]
          },
          "metadata": {
            "tags": []
          },
          "execution_count": 11
        }
      ]
    },
    {
      "cell_type": "code",
      "metadata": {
        "id": "YpcAHzCjyM69",
        "colab_type": "code",
        "colab": {}
      },
      "source": [
        "train_loss = histoy.history['loss']\n",
        "train_acc = histoy.history['accuracy']\n",
        "val_loss = histoy.history['val_loss']\n",
        "val_acc = histoy.history['val_accuracy']\n",
        "xc=range(25)"
      ],
      "execution_count": 0,
      "outputs": []
    },
    {
      "cell_type": "markdown",
      "metadata": {
        "id": "262QrDPNMCXp",
        "colab_type": "text"
      },
      "source": [
        "##Loss Curves"
      ]
    },
    {
      "cell_type": "code",
      "metadata": {
        "id": "QaGhi3-cyYMr",
        "colab_type": "code",
        "outputId": "1ef70662-25c0-4aa3-c647-65dcf020d074",
        "colab": {
          "base_uri": "https://localhost:8080/",
          "height": 296
        }
      },
      "source": [
        "import matplotlib.pyplot as plt\n",
        "%matplotlib inline\n",
        "plt.plot(xc, train_loss)\n",
        "plt.plot(xc, val_loss)\n",
        "plt.xlabel(\"Epoch\")\n",
        "plt.ylabel(\"Loss\")\n",
        "plt.legend(['train','val'])"
      ],
      "execution_count": 13,
      "outputs": [
        {
          "output_type": "execute_result",
          "data": {
            "text/plain": [
              "<matplotlib.legend.Legend at 0x7fc1605542e8>"
            ]
          },
          "metadata": {
            "tags": []
          },
          "execution_count": 13
        },
        {
          "output_type": "display_data",
          "data": {
            "image/png": "[encoded data removed]",
            "text/plain": [
              "<Figure size 432x288 with 1 Axes>"
            ]
          },
          "metadata": {
            "tags": [],
            "needs_background": "light"
          }
        }
      ]
    },
    {
      "cell_type": "markdown",
      "metadata": {
        "id": "N3SaD1OrMNrF",
        "colab_type": "text"
      },
      "source": [
        "##Loading the model with less validation loss"
      ]
    },
    {
      "cell_type": "code",
      "metadata": {
        "id": "MVPKYzvs3Eh6",
        "colab_type": "code",
        "outputId": "f428af3e-9cb6-48ad-edd9-0b6c06a09766",
        "colab": {
          "base_uri": "https://localhost:8080/",
          "height": 67
        }
      },
      "source": [
        "model.load_weights('ProjectAug.h5')\n",
        "test_loss,test_acc=model.evaluate(X_test,y_test)\n",
        "print(test_acc)\n",
        "print(test_loss)"
      ],
      "execution_count": 14,
      "outputs": [
        {
          "output_type": "stream",
          "text": [
            "1008/1008 [==============================] - 1s 926us/step\n",
            "0.971230149269104\n",
            "0.12142999655020142\n"
          ],
          "name": "stdout"
        }
      ]
    },
    {
      "cell_type": "markdown",
      "metadata": {
        "id": "JTbmBIPNMSo2",
        "colab_type": "text"
      },
      "source": [
        "##Test"
      ]
    },
    {
      "cell_type": "code",
      "metadata": {
        "id": "AzhYrwqTzpNJ",
        "colab_type": "code",
        "outputId": "79a2b439-06d6-4790-9dc9-f226d26fad49",
        "colab": {
          "base_uri": "https://localhost:8080/",
          "height": 50
        }
      },
      "source": [
        "i=11\n",
        "print(\"Original is \",y_test[i])\n",
        "pred=model.predict(X_test[i].reshape(1,300,300,3))\n",
        "print(\"Predicted is \",pred)"
      ],
      "execution_count": 15,
      "outputs": [
        {
          "output_type": "stream",
          "text": [
            "Original is  [0. 1.]\n",
            "Predicted is  [[1.9582629e-08 1.0000000e+00]]\n"
          ],
          "name": "stdout"
        }
      ]
    },
    {
      "cell_type": "markdown",
      "metadata": {
        "id": "8O-ijqZGMWrh",
        "colab_type": "text"
      },
      "source": [
        "##Classification Report and Confusion Matrix"
      ]
    },
    {
      "cell_type": "code",
      "metadata": {
        "id": "V5olUF6uHVbl",
        "colab_type": "code",
        "outputId": "fe895142-ac28-4e2d-9653-0dbbe817745b",
        "colab": {
          "base_uri": "https://localhost:8080/",
          "height": 168
        }
      },
      "source": [
        "import numpy as np\n",
        "from sklearn.metrics import classification_report,confusion_matrix\n",
        "import itertools\n",
        "\n",
        "Y_pred = model.predict(X_test)\n",
        "y_pred = np.argmax(Y_pred, axis=1)\n",
        "target = ['Defective','Non-Defective']\n",
        "print(classification_report(np.argmax(y_test,axis=1), y_pred,target_names=target))\n",
        "#print(confusion_matrix(y_test,y_pred))"
      ],
      "execution_count": 16,
      "outputs": [
        {
          "output_type": "stream",
          "text": [
            "               precision    recall  f1-score   support\n",
            "\n",
            "    Defective       0.95      0.99      0.97       506\n",
            "Non-Defective       0.99      0.95      0.97       502\n",
            "\n",
            "     accuracy                           0.97      1008\n",
            "    macro avg       0.97      0.97      0.97      1008\n",
            " weighted avg       0.97      0.97      0.97      1008\n",
            "\n"
          ],
          "name": "stdout"
        }
      ]
    },
    {
      "cell_type": "code",
      "metadata": {
        "id": "Cg-oMxGQPE1b",
        "colab_type": "code",
        "outputId": "7ec8b67f-ae7b-4df8-aec8-6428113745a5",
        "colab": {
          "base_uri": "https://localhost:8080/",
          "height": 50
        }
      },
      "source": [
        "print(confusion_matrix(np.argmax(y_test,axis=1),y_pred))"
      ],
      "execution_count": 17,
      "outputs": [
        {
          "output_type": "stream",
          "text": [
            "[[501   5]\n",
            " [ 24 478]]\n"
          ],
          "name": "stdout"
        }
      ]
    },
    {
      "cell_type": "code",
      "metadata": {
        "id": "UzYKwdWhbgsX",
        "colab_type": "code",
        "colab": {}
      },
      "source": [
        ""
      ],
      "execution_count": 0,
      "outputs": []
    }
  ]
}