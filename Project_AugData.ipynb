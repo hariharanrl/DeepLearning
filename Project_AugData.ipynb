{
  "nbformat": 4,
  "nbformat_minor": 0,
  "metadata": {
    "colab": {
      "name": "Project_AugData.ipynb",
      "provenance": [],
      "collapsed_sections": [],
      "machine_shape": "hm",
      "mount_file_id": "17GAYNnPVcG6NM-RB4FkaU1gBghSAIxnW",
      "authorship_tag": "ABX9TyNqnFwoOA916q6zt7sPEYw1",
      "include_colab_link": true
    },
    "kernelspec": {
      "name": "python3",
      "display_name": "Python 3"
    },
    "accelerator": "GPU"
  },
  "cells": [
    {
      "cell_type": "markdown",
      "metadata": {
        "id": "view-in-github",
        "colab_type": "text"
      },
      "source": [
        "<a href=\"https://colab.research.google.com/github/hariharanrl/hariharanrl.github.io/blob/master/Project_AugData.ipynb\" target=\"_parent\"><img src=\"https://colab.research.google.com/assets/colab-badge.svg\" alt=\"Open In Colab\"/></a>"
      ]
    },
    {
      "cell_type": "markdown",
      "metadata": {
        "id": "4YAvFP5a5eFr",
        "colab_type": "text"
      },
      "source": [
        "Location for Data"
      ]
    },
    {
      "cell_type": "code",
      "metadata": {
        "id": "qA9yat0Bu34Z",
        "colab_type": "code",
        "outputId": "4c7d0d79-1fc7-4fe1-edaf-366bcb59ec0a",
        "colab": {
          "base_uri": "https://localhost:8080/",
          "height": 34
        }
      },
      "source": [
        "#!pip3 install tensorflow==1.12.0 \n",
        "%tensorflow_version 1.x"
      ],
      "execution_count": 0,
      "outputs": [
        {
          "output_type": "stream",
          "text": [
            "TensorFlow 1.x selected.\n"
          ],
          "name": "stdout"
        }
      ]
    },
    {
      "cell_type": "code",
      "metadata": {
        "id": "dybAokJf19M1",
        "colab_type": "code",
        "outputId": "eba1f175-f49d-42cc-c577-8bb6cbfb9816",
        "colab": {
          "base_uri": "https://localhost:8080/",
          "height": 34
        }
      },
      "source": [
        "import os\n",
        "os.chdir('/content/drive/My Drive/NITK/Deep Learning Course 2020/classification data/Aug_PCB')\n",
        "os.getcwd()"
      ],
      "execution_count": 0,
      "outputs": [
        {
          "output_type": "execute_result",
          "data": {
            "text/plain": [
              "'/content/drive/My Drive/NITK/Deep Learning Course 2020/classification data/Aug_PCB'"
            ]
          },
          "metadata": {
            "tags": []
          },
          "execution_count": 2
        }
      ]
    },
    {
      "cell_type": "markdown",
      "metadata": {
        "id": "4S0UcpEn5h5X",
        "colab_type": "text"
      },
      "source": [
        "Loading Training and Testing Data"
      ]
    },
    {
      "cell_type": "code",
      "metadata": {
        "id": "iIJJU95N5e4O",
        "colab_type": "code",
        "outputId": "c2d08f68-b971-4481-fa83-5d8f4114f0d5",
        "colab": {
          "base_uri": "https://localhost:8080/",
          "height": 84
        }
      },
      "source": [
        "import numpy as np\n",
        "from sklearn.model_selection import train_test_split\n",
        "x= np.load(\"s_x_train.npy\")\n",
        "y= np.load(\"s_y_train.npy\")\n",
        "print(x.shape)\n",
        "print(y.shape)\n",
        "X_train,X_test,y_train,y_test = train_test_split(x,y,test_size=0.2)\n",
        "print(X_train.shape,y_train.shape)\n",
        "print(X_test.shape,y_test.shape)"
      ],
      "execution_count": 0,
      "outputs": [
        {
          "output_type": "stream",
          "text": [
            "(5040, 300, 300, 3)\n",
            "(5040,)\n",
            "(4032, 300, 300, 3) (4032,)\n",
            "(1008, 300, 300, 3) (1008,)\n"
          ],
          "name": "stdout"
        }
      ]
    },
    {
      "cell_type": "markdown",
      "metadata": {
        "id": "P1mtm2XWH5hM",
        "colab_type": "text"
      },
      "source": [
        "Data Normalization"
      ]
    },
    {
      "cell_type": "code",
      "metadata": {
        "id": "_Kt8gK8c7lNy",
        "colab_type": "code",
        "outputId": "41714bcd-b6a5-42eb-c451-3c95ebea6b78",
        "colab": {
          "base_uri": "https://localhost:8080/",
          "height": 67
        }
      },
      "source": [
        "import keras\n",
        "X_train = X_train.astype('float32')\n",
        "X_test  = X_test.astype('float32')\n",
        "X_train=keras.utils.normalize(X_train, axis=-1, order=2)\n",
        "X_test=keras.utils.normalize(X_test, axis=-1, order=2)\n",
        "print(np.max(X_train),np.max(X_test))\n",
        "print(np.min(X_train),np.min(X_test))\n"
      ],
      "execution_count": 0,
      "outputs": [
        {
          "output_type": "stream",
          "text": [
            "Using TensorFlow backend.\n"
          ],
          "name": "stderr"
        },
        {
          "output_type": "stream",
          "text": [
            "1.0 1.0\n",
            "0.0 0.0\n"
          ],
          "name": "stdout"
        }
      ]
    },
    {
      "cell_type": "markdown",
      "metadata": {
        "id": "93HIyR93N_B9",
        "colab_type": "text"
      },
      "source": [
        "Categorizing the Labels"
      ]
    },
    {
      "cell_type": "code",
      "metadata": {
        "id": "mrT0iXAsN-VZ",
        "colab_type": "code",
        "outputId": "b5a6dbfc-070d-4762-a9d7-fc98aa9e92d8",
        "colab": {
          "base_uri": "https://localhost:8080/",
          "height": 67
        }
      },
      "source": [
        "#X_train = X_train.reshape(X_train.shape[1]*X_train.shape[2],300,300,3)\n",
        "#X_test =  X_test.reshape(X_test.shape[0],300,300,1)\n",
        "#print(X_train.shape)\n",
        "#print(y_test.shape)\n",
        "y_train = keras.utils.np_utils.to_categorical(y_train)\n",
        "y_test = keras.utils.np_utils.to_categorical(y_test)\n",
        "num_classes=y_test.shape[1]\n",
        "print(y_train.shape)\n",
        "print(y_test.shape)\n",
        "print(num_classes)\n",
        "\n"
      ],
      "execution_count": 0,
      "outputs": [
        {
          "output_type": "stream",
          "text": [
            "(4032, 2)\n",
            "(1008, 2)\n",
            "2\n"
          ],
          "name": "stdout"
        }
      ]
    },
    {
      "cell_type": "code",
      "metadata": {
        "id": "MWDFmnbPYlRz",
        "colab_type": "code",
        "colab": {}
      },
      "source": [
        "def proj_model():\n",
        "  #import tensorflow as tf\n",
        "  from keras.models import Sequential\n",
        "  from keras.layers import Dense\n",
        "  from keras.layers import Dropout\n",
        "  from keras.layers import Flatten\n",
        "  from keras.constraints import maxnorm\n",
        "  from keras.optimizers import SGD\n",
        "  from keras.layers.convolutional import Conv2D\n",
        "  from keras.layers import BatchNormalization\n",
        "  from keras.layers.convolutional import MaxPooling2D\n",
        "  from keras.utils import np_utils\n",
        "\n",
        "  model=Sequential()\n",
        "          \n",
        "  model.add(Conv2D(32, (3, 3), input_shape=(300, 300, 3), activation='relu',padding='same'))\n",
        "  model.add(MaxPooling2D(pool_size=(2, 2)))\n",
        "    \n",
        "    \n",
        "  model.add(Conv2D(32, (3, 3), activation='relu',padding='same'))\n",
        "  model.add(MaxPooling2D(pool_size=(2, 2)))\n",
        "    \n",
        "  model.add(Conv2D(64, (3, 3), activation='relu',padding='same'))\n",
        "  model.add(MaxPooling2D(pool_size=(2, 2)))\n",
        "    \n",
        "    \n",
        "  model.add(Conv2D(128, (3, 3), activation='relu',padding='same'))\n",
        "  model.add(MaxPooling2D(pool_size=(2, 2)))\n",
        "    \n",
        "  model.add(Conv2D(128, (3, 3), activation='relu',padding='same'))\n",
        "  model.add(MaxPooling2D(pool_size=(2, 2)))\n",
        "\n",
        "  model.add(Dropout(0.5))\n",
        "  model.add(Flatten())\n",
        "    \n",
        "  model.add(Dense(1024, activation='relu'))\n",
        "  model.add(Dense(512, activation='relu'))\n",
        "    \n",
        "  model.add(Dense(num_classes, activation='softmax'))\n",
        "    \n",
        "  lrate = 0.01\n",
        "  epochs=25\n",
        "  decay = lrate/epochs\n",
        "  sgd = SGD(lr=lrate, momentum=0.9, decay=decay, nesterov=False)\n",
        "  model.compile(loss='categorical_crossentropy', optimizer=sgd, metrics=['accuracy'])\n",
        "    \n",
        "  return model\n"
      ],
      "execution_count": 0,
      "outputs": []
    },
    {
      "cell_type": "code",
      "metadata": {
        "id": "87Fwc5cDR6cb",
        "colab_type": "code",
        "outputId": "b4ee3d04-f6a2-4ed1-e623-709d8488e7dc",
        "colab": {
          "base_uri": "https://localhost:8080/",
          "height": 961
        }
      },
      "source": [
        "model=proj_model()\n",
        "model.summary()"
      ],
      "execution_count": 0,
      "outputs": [
        {
          "output_type": "stream",
          "text": [
            "WARNING:tensorflow:From /usr/local/lib/python3.6/dist-packages/keras/backend/tensorflow_backend.py:66: The name tf.get_default_graph is deprecated. Please use tf.compat.v1.get_default_graph instead.\n",
            "\n",
            "WARNING:tensorflow:From /usr/local/lib/python3.6/dist-packages/keras/backend/tensorflow_backend.py:541: The name tf.placeholder is deprecated. Please use tf.compat.v1.placeholder instead.\n",
            "\n",
            "WARNING:tensorflow:From /usr/local/lib/python3.6/dist-packages/keras/backend/tensorflow_backend.py:4432: The name tf.random_uniform is deprecated. Please use tf.random.uniform instead.\n",
            "\n",
            "WARNING:tensorflow:From /usr/local/lib/python3.6/dist-packages/keras/backend/tensorflow_backend.py:4267: The name tf.nn.max_pool is deprecated. Please use tf.nn.max_pool2d instead.\n",
            "\n",
            "WARNING:tensorflow:From /usr/local/lib/python3.6/dist-packages/keras/backend/tensorflow_backend.py:148: The name tf.placeholder_with_default is deprecated. Please use tf.compat.v1.placeholder_with_default instead.\n",
            "\n",
            "WARNING:tensorflow:From /usr/local/lib/python3.6/dist-packages/keras/backend/tensorflow_backend.py:3733: calling dropout (from tensorflow.python.ops.nn_ops) with keep_prob is deprecated and will be removed in a future version.\n",
            "Instructions for updating:\n",
            "Please use `rate` instead of `keep_prob`. Rate should be set to `rate = 1 - keep_prob`.\n",
            "WARNING:tensorflow:From /usr/local/lib/python3.6/dist-packages/keras/optimizers.py:793: The name tf.train.Optimizer is deprecated. Please use tf.compat.v1.train.Optimizer instead.\n",
            "\n",
            "WARNING:tensorflow:From /usr/local/lib/python3.6/dist-packages/keras/backend/tensorflow_backend.py:3576: The name tf.log is deprecated. Please use tf.math.log instead.\n",
            "\n",
            "Model: \"sequential_1\"\n",
            "_________________________________________________________________\n",
            "Layer (type)                 Output Shape              Param #   \n",
            "=================================================================\n",
            "conv2d_1 (Conv2D)            (None, 300, 300, 32)      896       \n",
            "_________________________________________________________________\n",
            "max_pooling2d_1 (MaxPooling2 (None, 150, 150, 32)      0         \n",
            "_________________________________________________________________\n",
            "conv2d_2 (Conv2D)            (None, 150, 150, 32)      9248      \n",
            "_________________________________________________________________\n",
            "max_pooling2d_2 (MaxPooling2 (None, 75, 75, 32)        0         \n",
            "_________________________________________________________________\n",
            "conv2d_3 (Conv2D)            (None, 75, 75, 64)        18496     \n",
            "_________________________________________________________________\n",
            "max_pooling2d_3 (MaxPooling2 (None, 37, 37, 64)        0         \n",
            "_________________________________________________________________\n",
            "conv2d_4 (Conv2D)            (None, 37, 37, 128)       73856     \n",
            "_________________________________________________________________\n",
            "max_pooling2d_4 (MaxPooling2 (None, 18, 18, 128)       0         \n",
            "_________________________________________________________________\n",
            "conv2d_5 (Conv2D)            (None, 18, 18, 128)       147584    \n",
            "_________________________________________________________________\n",
            "max_pooling2d_5 (MaxPooling2 (None, 9, 9, 128)         0         \n",
            "_________________________________________________________________\n",
            "dropout_1 (Dropout)          (None, 9, 9, 128)         0         \n",
            "_________________________________________________________________\n",
            "flatten_1 (Flatten)          (None, 10368)             0         \n",
            "_________________________________________________________________\n",
            "dense_1 (Dense)              (None, 1024)              10617856  \n",
            "_________________________________________________________________\n",
            "dense_2 (Dense)              (None, 512)               524800    \n",
            "_________________________________________________________________\n",
            "dense_3 (Dense)              (None, 2)                 1026      \n",
            "=================================================================\n",
            "Total params: 11,393,762\n",
            "Trainable params: 11,393,762\n",
            "Non-trainable params: 0\n",
            "_________________________________________________________________\n"
          ],
          "name": "stdout"
        }
      ]
    },
    {
      "cell_type": "code",
      "metadata": {
        "id": "TGDUYXHjnEvB",
        "colab_type": "code",
        "colab": {}
      },
      "source": [
        "import os\n",
        "os.chdir(\"/content/drive/My Drive/NITK\")\n",
        "from keras.callbacks import ModelCheckpoint, TensorBoard, CSVLogger\n",
        "mc = ModelCheckpoint('ProjectAug.h5', monitor='val_loss', save_best_only=True)\n",
        "tb = TensorBoard(log_dir='/content/drive/My Drive/NITK/logs2', write_graph=True, write_grads=False, write_images=False, embeddings_freq=0, update_freq='epoch')\n",
        "cv = CSVLogger('ProjectAug.csv',append=True)"
      ],
      "execution_count": 0,
      "outputs": []
    },
    {
      "cell_type": "code",
      "metadata": {
        "id": "gh4G_tWOtTMG",
        "colab_type": "code",
        "outputId": "2677fe8d-19e2-4960-f901-80876920b796",
        "colab": {
          "base_uri": "https://localhost:8080/",
          "height": 927
        }
      },
      "source": [
        "histoy=model.fit(X_train, y_train, validation_split=(0.2), epochs=25, batch_size=32,verbose=2,callbacks=[cv,mc,tb])\n",
        "#histoy=model.fit(X_train,y_train,validation_split=(0.2),epochs=30,batch_size=32,verbose=2)"
      ],
      "execution_count": 0,
      "outputs": [
        {
          "output_type": "stream",
          "text": [
            "Train on 3225 samples, validate on 807 samples\n",
            "Epoch 1/25\n",
            " - 17s - loss: 0.6651 - acc: 0.5693 - val_loss: 0.6106 - val_acc: 0.6270\n",
            "WARNING:tensorflow:From /usr/local/lib/python3.6/dist-packages/keras/callbacks.py:1265: The name tf.Summary is deprecated. Please use tf.compat.v1.Summary instead.\n",
            "\n",
            "Epoch 2/25\n",
            " - 16s - loss: 0.5804 - acc: 0.6763 - val_loss: 0.5297 - val_acc: 0.7770\n",
            "Epoch 3/25\n",
            " - 16s - loss: 0.4442 - acc: 0.8019 - val_loss: 0.3299 - val_acc: 0.8810\n",
            "Epoch 4/25\n",
            " - 16s - loss: 0.3683 - acc: 0.8384 - val_loss: 0.5118 - val_acc: 0.7757\n",
            "Epoch 5/25\n",
            " - 16s - loss: 0.2715 - acc: 0.8831 - val_loss: 0.2301 - val_acc: 0.8971\n",
            "Epoch 6/25\n",
            " - 16s - loss: 0.1861 - acc: 0.9098 - val_loss: 0.2251 - val_acc: 0.9021\n",
            "Epoch 7/25\n",
            " - 16s - loss: 0.1517 - acc: 0.9340 - val_loss: 0.1512 - val_acc: 0.9244\n",
            "Epoch 8/25\n",
            " - 16s - loss: 0.1250 - acc: 0.9442 - val_loss: 0.1529 - val_acc: 0.9430\n",
            "Epoch 9/25\n",
            " - 16s - loss: 0.1020 - acc: 0.9550 - val_loss: 0.1058 - val_acc: 0.9591\n",
            "Epoch 10/25\n",
            " - 16s - loss: 0.0802 - acc: 0.9668 - val_loss: 0.1920 - val_acc: 0.9430\n",
            "Epoch 11/25\n",
            " - 16s - loss: 0.0702 - acc: 0.9767 - val_loss: 0.1902 - val_acc: 0.9442\n",
            "Epoch 12/25\n",
            " - 16s - loss: 0.0670 - acc: 0.9764 - val_loss: 0.1350 - val_acc: 0.9542\n",
            "Epoch 13/25\n",
            " - 16s - loss: 0.0446 - acc: 0.9851 - val_loss: 0.1125 - val_acc: 0.9628\n",
            "Epoch 14/25\n",
            " - 16s - loss: 0.0420 - acc: 0.9842 - val_loss: 0.1021 - val_acc: 0.9690\n",
            "Epoch 15/25\n",
            " - 16s - loss: 0.0441 - acc: 0.9851 - val_loss: 0.0914 - val_acc: 0.9715\n",
            "Epoch 16/25\n",
            " - 16s - loss: 0.0313 - acc: 0.9882 - val_loss: 0.0885 - val_acc: 0.9765\n",
            "Epoch 17/25\n",
            " - 16s - loss: 0.0361 - acc: 0.9882 - val_loss: 0.1490 - val_acc: 0.9628\n",
            "Epoch 18/25\n",
            " - 16s - loss: 0.0312 - acc: 0.9895 - val_loss: 0.1324 - val_acc: 0.9678\n",
            "Epoch 19/25\n",
            " - 16s - loss: 0.0320 - acc: 0.9888 - val_loss: 0.1229 - val_acc: 0.9665\n",
            "Epoch 20/25\n",
            " - 16s - loss: 0.0224 - acc: 0.9935 - val_loss: 0.1301 - val_acc: 0.9653\n",
            "Epoch 21/25\n",
            " - 16s - loss: 0.0338 - acc: 0.9885 - val_loss: 0.1269 - val_acc: 0.9678\n",
            "Epoch 22/25\n",
            " - 16s - loss: 0.0223 - acc: 0.9922 - val_loss: 0.1155 - val_acc: 0.9703\n",
            "Epoch 23/25\n",
            " - 16s - loss: 0.0223 - acc: 0.9904 - val_loss: 0.1326 - val_acc: 0.9665\n",
            "Epoch 24/25\n",
            " - 16s - loss: 0.0158 - acc: 0.9953 - val_loss: 0.1834 - val_acc: 0.9628\n",
            "Epoch 25/25\n",
            " - 16s - loss: 0.0138 - acc: 0.9963 - val_loss: 0.1410 - val_acc: 0.9727\n"
          ],
          "name": "stdout"
        }
      ]
    },
    {
      "cell_type": "code",
      "metadata": {
        "id": "vn8zygnVxrCr",
        "colab_type": "code",
        "outputId": "0f05ddb0-6379-4cd6-e61e-4d8fd05601ca",
        "colab": {
          "base_uri": "https://localhost:8080/",
          "height": 67
        }
      },
      "source": [
        "test_loss,test_acc=model.evaluate(X_test,y_test)\n",
        "print(test_acc)\n",
        "print(test_loss)"
      ],
      "execution_count": 0,
      "outputs": [
        {
          "output_type": "stream",
          "text": [
            "1008/1008 [==============================] - 2s 2ms/step\n",
            "0.9692460317460317\n",
            "0.14722014679610435\n"
          ],
          "name": "stdout"
        }
      ]
    },
    {
      "cell_type": "code",
      "metadata": {
        "id": "YpcAHzCjyM69",
        "colab_type": "code",
        "colab": {}
      },
      "source": [
        "train_loss = histoy.history['loss']\n",
        "train_acc = histoy.history['acc']\n",
        "val_loss = histoy.history['val_loss']\n",
        "val_acc = histoy.history['val_acc']\n",
        "xc=range(25)"
      ],
      "execution_count": 0,
      "outputs": []
    },
    {
      "cell_type": "code",
      "metadata": {
        "id": "QaGhi3-cyYMr",
        "colab_type": "code",
        "outputId": "da632a9c-984f-457f-cbef-8e6fc121eded",
        "colab": {
          "base_uri": "https://localhost:8080/",
          "height": 296
        }
      },
      "source": [
        "import matplotlib.pyplot as plt\n",
        "%matplotlib inline\n",
        "plt.plot(xc, train_loss)\n",
        "plt.plot(xc, val_loss)\n",
        "plt.xlabel(\"Epoch\")\n",
        "plt.ylabel(\"Loss\")\n",
        "plt.legend(['train','val'])"
      ],
      "execution_count": 0,
      "outputs": [
        {
          "output_type": "execute_result",
          "data": {
            "text/plain": [
              "<matplotlib.legend.Legend at 0x7f941da64b38>"
            ]
          },
          "metadata": {
            "tags": []
          },
          "execution_count": 15
        },
        {
          "output_type": "display_data",
          "data": {
            "image/png": "[encoded data removed]",
            "text/plain": [
              "<Figure size 432x288 with 1 Axes>"
            ]
          },
          "metadata": {
            "tags": []
          }
        }
      ]
    },
    {
      "cell_type": "code",
      "metadata": {
        "id": "MVPKYzvs3Eh6",
        "colab_type": "code",
        "outputId": "ef15bb14-2020-4755-e735-fd2abf6f51af",
        "colab": {
          "base_uri": "https://localhost:8080/",
          "height": 67
        }
      },
      "source": [
        "model.load_weights('ProjectAug.h5')\n",
        "test_loss,test_acc=model.evaluate(X_test,y_test)\n",
        "print(test_acc)\n",
        "print(test_loss)"
      ],
      "execution_count": 0,
      "outputs": [
        {
          "output_type": "stream",
          "text": [
            "1008/1008 [==============================] - 2s 2ms/step\n",
            "0.9632936507936508\n",
            "0.12098532647452509\n"
          ],
          "name": "stdout"
        }
      ]
    },
    {
      "cell_type": "code",
      "metadata": {
        "id": "AzhYrwqTzpNJ",
        "colab_type": "code",
        "outputId": "b795a49b-7a69-4c0e-ac42-526f438bcddb",
        "colab": {
          "base_uri": "https://localhost:8080/",
          "height": 50
        }
      },
      "source": [
        "i=11\n",
        "print(\"Original is \",y_test[i])\n",
        "pred=model.predict(X_test[i].reshape(1,300,300,3))\n",
        "print(\"Predicted is \",pred)"
      ],
      "execution_count": 0,
      "outputs": [
        {
          "output_type": "stream",
          "text": [
            "Original is  [0. 1.]\n",
            "Predicted is  [[2.8291654e-15 1.0000000e+00]]\n"
          ],
          "name": "stdout"
        }
      ]
    },
    {
      "cell_type": "code",
      "metadata": {
        "id": "V5olUF6uHVbl",
        "colab_type": "code",
        "outputId": "1c5486fb-8c52-473c-991b-7f153074e7ac",
        "colab": {
          "base_uri": "https://localhost:8080/",
          "height": 168
        }
      },
      "source": [
        "import numpy as np\n",
        "from sklearn.metrics import classification_report,confusion_matrix\n",
        "import itertools\n",
        "\n",
        "Y_pred = model.predict(X_test)\n",
        "y_pred = np.argmax(Y_pred, axis=1)\n",
        "target = ['Defective','Non-Defective']\n",
        "print(classification_report(np.argmax(y_test,axis=1), y_pred,target_names=target))\n",
        "print(confusion_matrix(y_test,y_pred))"
      ],
      "execution_count": 0,
      "outputs": [
        {
          "output_type": "stream",
          "text": [
            "               precision    recall  f1-score   support\n",
            "\n",
            "    Defective       0.94      0.99      0.97       525\n",
            "Non-Defective       0.99      0.94      0.96       483\n",
            "\n",
            "     accuracy                           0.96      1008\n",
            "    macro avg       0.97      0.96      0.96      1008\n",
            " weighted avg       0.96      0.96      0.96      1008\n",
            "\n"
          ],
          "name": "stdout"
        }
      ]
    },
    {
      "cell_type": "code",
      "metadata": {
        "id": "Cg-oMxGQPE1b",
        "colab_type": "code",
        "outputId": "603f9df4-0b8b-47df-fecc-960e6fd0e457",
        "colab": {
          "base_uri": "https://localhost:8080/",
          "height": 50
        }
      },
      "source": [
        "print(confusion_matrix(np.argmax(y_test,axis=1),y_pred))"
      ],
      "execution_count": 0,
      "outputs": [
        {
          "output_type": "stream",
          "text": [
            "[[519   6]\n",
            " [ 31 452]]\n"
          ],
          "name": "stdout"
        }
      ]
    },
    {
      "cell_type": "code",
      "metadata": {
        "id": "UzYKwdWhbgsX",
        "colab_type": "code",
        "colab": {}
      },
      "source": [
        ""
      ],
      "execution_count": 0,
      "outputs": []
    }
  ]
}