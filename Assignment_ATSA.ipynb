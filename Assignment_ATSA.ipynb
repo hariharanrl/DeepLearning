{
  "nbformat": 4,
  "nbformat_minor": 0,
  "metadata": {
    "colab": {
      "name": "Assignment_ATSA.ipynb",
      "provenance": [],
      "collapsed_sections": [
        "EaMG9nN1W0k4",
        "zZ05wezHXGqH",
        "otPfG4avXQMI",
        "6_OAWbWxXaAS"
      ],
      "mount_file_id": "1NCdp5RYtzEP4UVKBpkHH8RzDW39ULrWD",
      "authorship_tag": "ABX9TyP1i2JKi7lr8N1F45dOnvIZ",
      "include_colab_link": true
    },
    "kernelspec": {
      "name": "python3",
      "display_name": "Python 3"
    }
  },
  "cells": [
    {
      "cell_type": "markdown",
      "metadata": {
        "id": "view-in-github",
        "colab_type": "text"
      },
      "source": [
        "<a href=\"https://colab.research.google.com/github/hariharanrl/DeepLearning/blob/master/Assignment_ATSA.ipynb\" target=\"_parent\"><img src=\"https://colab.research.google.com/assets/colab-badge.svg\" alt=\"Open In Colab\"/></a>"
      ]
    },
    {
      "cell_type": "markdown",
      "metadata": {
        "id": "QGzQg19hHs2O",
        "colab_type": "text"
      },
      "source": [
        "##Loading the Required Data \n",
        "##NSE Data is taken for January to May (as the first case of covid19 was from january 30)from [here](https://www1.nseindia.com/products/content/equities/indices/historical_index_data.htm) \n",
        "##Covid19 dataset is taken from [here](https://covid19.who.int/region/searo/country/in)\n",
        "##Crude oil dataset is taken from [here](https://www.mcxindia.com/market-data/historical-data#)"
      ]
    },
    {
      "cell_type": "code",
      "metadata": {
        "id": "5usPIaRLI50O",
        "colab_type": "code",
        "colab": {}
      },
      "source": [
        "import pandas as pd\n",
        "#This data contains the stock price along with the covid cases \n",
        "data=pd.read_csv('/content/drive/My Drive/NSE_Covid.csv')\n",
        "#This data contains the crude oil price for the period of Jan-May\n",
        "datacrud=pd.read_csv('/content/drive/My Drive/crudeoil.csv')\n"
      ],
      "execution_count": 0,
      "outputs": []
    },
    {
      "cell_type": "markdown",
      "metadata": {
        "id": "EaMG9nN1W0k4",
        "colab_type": "text"
      },
      "source": [
        "##1. Optimize the log-periodic power law (LPPL) parameters using GREY WOLF optimizer for predicting stock price crisis."
      ]
    },
    {
      "cell_type": "markdown",
      "metadata": {
        "id": "caQUlboiTMDx",
        "colab_type": "text"
      },
      "source": [
        "Log Periodic Power Law (LPPL) model is used to find out the bubble in a financial asset. A bubble is characterized as a faster than-exponential increment in asset value, that reflects positive criticism circle of higher yield expectations competing with negative criticism of crash expectations.\n",
        "Here is the model.\n",
        "\n",
        "$$E[\\ln p(t)]=A+B(t_c-t)^m_+C(t_c-t)^mcos(\\omega \\ln(t_c-t)-\\phi)$$\n",
        "\n",
        "where\n",
        "\n",
        "*   $E[\\ln p(t)]:$Expected Log Price Colon Equals expected log price at the date of the termination of the bubble\n",
        "*   $t_c:$Critical Time Colon Equals critical time (date of termination of the bubble and transition in a new regime)\n",
        "*   $A:$expected log price at the peak when the end of the bubble is reached at Critical Time\n",
        "*   $B:$amplitude of the power law acceleration\n",
        "*   $C:$amplitude of the log-periodic oscillations\n",
        "*   $m:$degree of the super exponential growth\n",
        "*   $\\omega :$scaling ratio of the temporal hierarchy of oscillations\n",
        "*   $\\phi :$time scale of the oscillations\n",
        "\n",
        "The code for the model is referred from [here](https://github.com/Boulder-Investment-Technologies/lppls/blob/master/lppls/lppls.py)\n",
        "\n",
        "\n",
        "\n",
        "\n",
        "\n",
        "\n",
        "\n",
        "\n",
        "\n",
        "\n",
        "\n",
        "\n",
        "\n"
      ]
    },
    {
      "cell_type": "code",
      "metadata": {
        "id": "meBC2ZFTX9hd",
        "colab_type": "code",
        "colab": {}
      },
      "source": [
        "import multiprocessing\n",
        "from matplotlib import pyplot as plt\n",
        "import numpy as np\n",
        "import pandas as pd\n",
        "import random\n",
        "from scipy.optimize import minimize\n",
        "import statistics as stats\n",
        "\n",
        "\n",
        "\n",
        "class LPPLS(object):\n",
        "\n",
        "    def __init__(self, use_ln, observations):\n",
        "        \"\"\"\n",
        "        Args:\n",
        "            use_ln (bool): Whether to take the natural logarithm of the observations.\n",
        "            observations (np.array): Mx2 matrix with timestamp and observed value.\n",
        "        \"\"\"\n",
        "        self.use_ln = use_ln\n",
        "        self.observations = observations\n",
        "\n",
        "    # matrix helpers\n",
        "    def _yi(self, price_series):\n",
        "        if self.use_ln:\n",
        "            return [np.log(p) for p in price_series]\n",
        "        else:\n",
        "            return [p for p in price_series]\n",
        "\n",
        "    def _fi(self, tc, m, time_series):\n",
        "        return [np.power((tc - t), m) for t in time_series]\n",
        "\n",
        "    def _gi(self, tc, m, w, time_series):\n",
        "        if self.use_ln:\n",
        "            return [np.power((tc - t), m) * np.cos(w * np.log(tc - t)) for t in time_series]\n",
        "        else:\n",
        "            return [np.power((tc - t), m) * np.cos(w * (tc - t)) for t in time_series]\n",
        "\n",
        "    def _hi(self, tc, m, w, time_series):\n",
        "        if self.use_ln:\n",
        "            return [np.power((tc - t), m) * np.sin(w * np.log(tc - t)) for t in time_series]\n",
        "        else:\n",
        "            return [np.power((tc - t), m) * np.sin(w * (tc - t)) for t in time_series]\n",
        "\n",
        "    def _fi_pow_2(self, tc, m, time_series):\n",
        "        return np.power(self._fi(tc, m, time_series), 2)\n",
        "\n",
        "    def _gi_pow_2(self, tc, m, w, time_series):\n",
        "        return np.power(self._gi(tc, m, w, time_series), 2)\n",
        "\n",
        "    def _hi_pow_2(self, tc, m, w, time_series):\n",
        "        return np.power(self._hi(tc, m, w, time_series), 2)\n",
        "\n",
        "    def _figi(self, tc, m, w, time_series):\n",
        "        return np.multiply(self._fi(tc, m, time_series), self._gi(tc, m, w, time_series))\n",
        "\n",
        "    def _fihi(self, tc, m, w, time_series):\n",
        "        return np.multiply(self._fi(tc, m, time_series), self._hi(tc, m, w, time_series))\n",
        "\n",
        "    def _gihi(self, tc, m, w, time_series):\n",
        "        return np.multiply(self._gi(tc, m, w, time_series), self._hi(tc, m, w, time_series))\n",
        "\n",
        "    def _yifi(self, tc, m, time_series, price_series):\n",
        "        return np.multiply(self._yi(price_series), self._fi(tc, m, time_series))\n",
        "\n",
        "    def _yigi(self, tc, m, w, time_series, price_series):\n",
        "        return np.multiply(self._yi(price_series), self._gi(tc, m, w, time_series))\n",
        "\n",
        "    def _yihi(self, tc, m, w, time_series, price_series):\n",
        "        return np.multiply(self._yi(price_series), self._hi(tc, m, w, time_series))\n",
        "\n",
        "    def lppls(self, t, tc, m, w, a, b, c1, c2):\n",
        "        if self.use_ln:\n",
        "            return a + np.power(tc - t, m) * (b + ((c1 * np.cos(w * np.log(tc - t))) + (c2 * np.sin(w * np.log(tc - t)))))\n",
        "        else:\n",
        "            return a + np.power(tc - t, m) * (b + ((c1 * np.cos(w * (tc - t))) + (c2 * np.sin(w * (tc - t)))))\n",
        "\n",
        "    def func_restricted(self, x, *args):\n",
        "        '''\n",
        "        finds the least square difference\n",
        "        '''\n",
        "        tc = x[0]\n",
        "        m = x[1]\n",
        "        w = x[2]\n",
        "\n",
        "        obs = args[0]\n",
        "        # print('shape: {}'.format(obs.shape))\n",
        "\n",
        "        lin_vals = self.matrix_equation(obs, tc, m, w)\n",
        "\n",
        "        a = float(lin_vals[0])\n",
        "        b = float(lin_vals[1])\n",
        "        c1 = float(lin_vals[2])\n",
        "        c2 = float(lin_vals[3])\n",
        "\n",
        "        delta = [self.lppls(t, tc, m, w, a, b, c1, c2) for t in obs[0, :]]\n",
        "        delta = np.subtract(delta, obs[1, :])\n",
        "        delta = np.power(delta, 2)\n",
        "\n",
        "        return np.sum(delta)\n",
        "\n",
        "    def matrix_equation(self, observations, tc, m, w):\n",
        "        '''\n",
        "        solve the matrix equation\n",
        "        '''\n",
        "        time = observations[0, :]\n",
        "        obs = observations[1, :]\n",
        "        N = len(obs)\n",
        "        zeros = np.array([0, 0, 0, 0])\n",
        "\n",
        "        # --------------------------------\n",
        "        fi = sum(self._fi(tc, m, time))\n",
        "        gi = sum(self._gi(tc, m, w, time))\n",
        "        hi = sum(self._hi(tc, m, w, time))\n",
        "\n",
        "        # --------------------------------\n",
        "        fi_pow_2 = sum(self._fi_pow_2(tc, m, time))\n",
        "        gi_pow_2 = sum(self._gi_pow_2(tc, m, w, time))\n",
        "        hi_pow_2 = sum(self._hi_pow_2(tc, m, w, time))\n",
        "\n",
        "        # --------------------------------\n",
        "        figi = sum(self._figi(tc, m, w, time))\n",
        "        fihi = sum(self._fihi(tc, m, w, time))\n",
        "        gihi = sum(self._gihi(tc, m, w, time))\n",
        "\n",
        "        # --------------------------------\n",
        "        yi = sum(self._yi(obs))\n",
        "        yifi = sum(self._yifi(tc, m, time, obs))\n",
        "        yigi = sum(self._yigi(tc, m, w, time, obs))\n",
        "        yihi = sum(self._yihi(tc, m, w, time, obs))\n",
        "\n",
        "        # --------------------------------\n",
        "        matrix_1 = np.matrix([\n",
        "            [N, fi, gi, hi],\n",
        "            [fi, fi_pow_2, figi, fihi],\n",
        "            [gi, figi, gi_pow_2, gihi],\n",
        "            [hi, fihi, gihi, hi_pow_2]\n",
        "        ])\n",
        "\n",
        "        matrix_2 = np.matrix([\n",
        "            [yi],\n",
        "            [yifi],\n",
        "            [yigi],\n",
        "            [yihi]\n",
        "        ])\n",
        "\n",
        "        try:\n",
        "            # product = linalg.solve(matrix_1, matrix_2)\n",
        "            # return [i[0] for i in product]\n",
        "\n",
        "            matrix_1_is_not_inf_or_nan = not np.isinf(matrix_1).any() and not np.isnan(matrix_1).any()\n",
        "            matrix_2_is_not_inf_or_nan = not np.isinf(matrix_2).any() and not np.isnan(matrix_2).any()\n",
        "\n",
        "            if matrix_1_is_not_inf_or_nan and matrix_2_is_not_inf_or_nan:\n",
        "                inverse = np.linalg.pinv(matrix_1)\n",
        "                product = inverse * matrix_2\n",
        "                return product\n",
        "            return zeros\n",
        "\n",
        "        except Exception as e:\n",
        "            print('matrix_equation failed: {}'.format(e))\n",
        "\n",
        "        return zeros\n",
        "\n",
        "    def fit(self, observations, max_searches, minimizer='Nelder-Mead'):\n",
        "        \"\"\"\n",
        "        Args:\n",
        "            observations (Mx2 numpy array): the observed data\n",
        "            max_searches (int): The maxi amount of searches to perform before giving up. The literature suggests 25\n",
        "            minimizer (str): See list of valid methods to pass to scipy.optimize.minimize: https://docs.scipy.org/doc/scipy/reference/generated/scipy.optimize.minimize.html#scipy.optimize.minimize\n",
        "\n",
        "        Returns:\n",
        "            tc, m, w, a, b, c1, c2\n",
        "        \"\"\"\n",
        "        search_count = 0\n",
        "\n",
        "        # find bubble\n",
        "        while search_count < max_searches:\n",
        "\n",
        "            tc_init_min, tc_init_max = self._get_tc_bounds(observations, 0.20, 0.20)\n",
        "\n",
        "            # set random initialization limits for non-linear params\n",
        "            init_limits = [\n",
        "                (tc_init_min, tc_init_max),  # tc : Critical Time\n",
        "                (0.1, 0.9),                  # m : 0.1 ≤ m ≤ 0.9\n",
        "                (6, 13),                     # ω : 6 ≤ ω ≤ 13\n",
        "            ]\n",
        "\n",
        "            # randomly choose vals within bounds for non-linear params\n",
        "            non_lin_vals = [random.uniform(a[0], a[1]) for a in init_limits]\n",
        "\n",
        "            tc = non_lin_vals[0]\n",
        "            m = non_lin_vals[1]\n",
        "            w = non_lin_vals[2]\n",
        "\n",
        "            seed = np.array([tc, m, w])\n",
        "\n",
        "            try:\n",
        "                cofs = minimize(\n",
        "                    args=observations,\n",
        "                    fun=self.func_restricted,\n",
        "                    method=minimizer,\n",
        "                    x0=seed\n",
        "                )\n",
        "\n",
        "                if cofs.success:\n",
        "\n",
        "                    tc = cofs.x[0]\n",
        "                    m = cofs.x[1]\n",
        "                    w = cofs.x[2]\n",
        "\n",
        "                    # calculate the linear vals again...\n",
        "                    lin_vals = self.matrix_equation(observations, tc, m, w)\n",
        "\n",
        "                    a = float(lin_vals[0])\n",
        "                    b = float(lin_vals[1])\n",
        "                    c1 = float(lin_vals[2])\n",
        "                    c2 = float(lin_vals[3])\n",
        "\n",
        "                    c = (c1 ** 2 + c2 ** 2) ** 0.5\n",
        "\n",
        "                    # @TODO save these as variables local to the class so you can access them again\n",
        "                    return tc, m, w, a, b, c\n",
        "\n",
        "                else:\n",
        "                    search_count += 1\n",
        "            except Exception as e:\n",
        "                print('minimize failed: {}'.format(e))\n",
        "                search_count += 1\n",
        "        return 0, 0, 0, 0, 0, 0\n",
        "\n",
        "    def plot_many_fits(self, observations, tc, m, w, overlay=True, path_out=False):\n",
        "        \"\"\"\n",
        "        Args:\n",
        "            tc (float): predicted critical time\n",
        "            m (float): predicted degree of super-exponential growth\n",
        "            w (float): predicted scaling ratio of the temporal hierarchy of oscillations\n",
        "            observations (Mx2 numpy array): the observed data\n",
        "\n",
        "        Returns:\n",
        "            nothing, should plot the fit\n",
        "        \"\"\"\n",
        "        lin_vals = self.matrix_equation(observations, tc, m, w)\n",
        "\n",
        "        a = float(lin_vals[0])\n",
        "        b = float(lin_vals[1])\n",
        "        c1 = float(lin_vals[2])\n",
        "        c2 = float(lin_vals[3])\n",
        "\n",
        "        time_subset = observations[0, :]\n",
        "        obs_subset = observations[1, :]\n",
        "        obs_subset = np.log(obs_subset) if self.use_ln else obs_subset\n",
        "\n",
        "        time_full = self.observations[0, :]\n",
        "        obs_full = self.observations[1, :]\n",
        "        obs_full = np.log(obs_full) if self.use_ln else obs_full\n",
        "\n",
        "        fig, ax1 = plt.subplots(figsize=(14, 8))\n",
        "        plt.xticks(rotation=45)\n",
        "\n",
        "        color = 'tab:blue'\n",
        "        color2 = 'tab:green'\n",
        "        color3 = 'tab:pink'\n",
        "        ax1.set_xlabel('time')\n",
        "        ax1.set_ylabel('observations')\n",
        "        ax1.plot(time_full, obs_full, color=color3)\n",
        "        t_last = time_full[-1]\n",
        "        if tc < t_last:\n",
        "            plt.axvline(x=tc)\n",
        "            lppls_fit = [self.lppls(t, tc, m, w, a, b, c1, c2) for t in time_full]\n",
        "            ax1.plot(time_full, lppls_fit, color=color)\n",
        "        else:\n",
        "            lppls_fit = [self.lppls(t, tc, m, w, a, b, c1, c2) for t in time_subset]\n",
        "            ax1.plot(time_subset, lppls_fit, color=color)\n",
        "        ax1.plot(time_subset, obs_subset, color=color2)\n",
        "        ax1.tick_params(axis='y', labelcolor=color)\n",
        "\n",
        "        if path_out:\n",
        "            fig.savefig(path_out)\n",
        "\n",
        "    def plot_fit(self, observations, tc, m, w):\n",
        "        \"\"\"\n",
        "        Args:\n",
        "            tc (float): predicted critical time\n",
        "            m (float): predicted degree of super-exponential growth\n",
        "            w (float): predicted scaling ratio of the temporal hierarchy of oscillations\n",
        "            observations (Mx2 numpy array): the observed data\n",
        "        Returns:\n",
        "            nothing, should plot the fit\n",
        "        \"\"\"\n",
        "        lin_vals = self.matrix_equation(observations, tc, m, w)\n",
        "\n",
        "        a = float(lin_vals[0])\n",
        "        b = float(lin_vals[1])\n",
        "        c1 = float(lin_vals[2])\n",
        "        c2 = float(lin_vals[3])\n",
        "        lppls_fit = [self.lppls(t, tc, m, w, a, b, c1, c2) for t in observations[0]]\n",
        "        original_observations = np.log(observations[1]) if self.use_ln else observations[1]\n",
        "\n",
        "        data = pd.DataFrame({\n",
        "            'Time': observations[0],\n",
        "            'LPPLS Fit': lppls_fit,\n",
        "            'Observations': original_observations,\n",
        "        })\n",
        "        data = data.set_index('Time')\n",
        "        data.plot(figsize=(14, 8))\n",
        "\n",
        "    def mp_compute_indicator(self, workers, window_size=80, smallest_window_size=20, increment=5, max_searches=25):\n",
        "        obs_copy = self.observations\n",
        "        obs_copy_len = len(obs_copy[0, :]) - window_size\n",
        "\n",
        "        func = self._func_compute_indicator\n",
        "        func_arg_map = [(\n",
        "            obs_copy[:, i:window_size + i],  # obs\n",
        "            i,                               # n_iter\n",
        "            window_size,                     # window_size\n",
        "            smallest_window_size,            # smallest_window_size\n",
        "            increment,                       # increment\n",
        "            max_searches                     # max_searches\n",
        "        ) for i in range(obs_copy_len)]\n",
        "\n",
        "        pool = multiprocessing.Pool(processes=workers)\n",
        "        result = pool.map(func, func_arg_map)\n",
        "        pool.close()\n",
        "\n",
        "        return result\n",
        "\n",
        "    def _func_compute_indicator(self, args):\n",
        "\n",
        "        obs, n_iter, window_size, smallest_window_size, increment, max_searches = args\n",
        "\n",
        "        n_fits = (window_size - smallest_window_size) // increment\n",
        "\n",
        "        cofs = []\n",
        "\n",
        "        # run n fits on the observation slice.\n",
        "        for j in range(n_fits):\n",
        "            obs_shrinking_slice = obs[:, j * increment:window_size + n_iter]\n",
        "\n",
        "            # fit the model to the data and get back the params\n",
        "            tc, m, w, a, b, c = self.fit(obs_shrinking_slice, max_searches, minimizer='Nelder-Mead')\n",
        "\n",
        "            t_len = len(obs_shrinking_slice)\n",
        "            # filtering conditions\n",
        "            # @TODO - make filtering conditions configurable\n",
        "\n",
        "            first = obs_shrinking_slice[0][0]\n",
        "            last = obs_shrinking_slice[0][-1]\n",
        "            tc_init_min, tc_init_max = self._get_tc_bounds(obs_shrinking_slice, 0.05, 0.10)\n",
        "\n",
        "            tc_in_range = last - tc_init_min < tc < last + tc_init_max\n",
        "            m_in_range = 0.01 < m < 1.2\n",
        "            w_in_range = 2 < w < 25\n",
        "\n",
        "            # n_oscillation = ((w / 2) * np.log(abs((tc - first) / (last - first)))) > 2.5\n",
        "            # Use filtering conditions as implemented in the R 'bubble' package by Dean Fantazzini\n",
        "            # (https://github.com/Boulder-Investment-Technologies/lppls/issues/url)\n",
        "            n_oscillation = ((w / 2 * np.pi) * np.log(abs((tc) / (tc - last)))) > 2.5\n",
        "\n",
        "            # for bubble end flag\n",
        "            damping_bef = (m * abs(b)) / (w * abs(c)) > 0.8\n",
        "            # for bubble early warning\n",
        "            damping_bew = (m * abs(b)) / (w * abs(c)) > 0.0\n",
        "\n",
        "            if tc_in_range and m_in_range and w_in_range and n_oscillation and damping_bef:\n",
        "                bef = True\n",
        "            else:\n",
        "                bef = False\n",
        "\n",
        "            if tc_in_range and m_in_range and w_in_range and n_oscillation and damping_bew:\n",
        "                bew = True\n",
        "            else:\n",
        "                bew = False\n",
        "\n",
        "            median = stats.median(pd.Series(obs_shrinking_slice[1, :]).pct_change().cumsum())\n",
        "            median_sign = 1 if median > 0 else -1\n",
        "\n",
        "            cofs.append({\n",
        "                'tc': tc,\n",
        "                'm': m,\n",
        "                'w': w,\n",
        "                'a': a,\n",
        "                'b': b,\n",
        "                'c': c,\n",
        "                'bef': bef,\n",
        "                'bew': bew,\n",
        "                'median_sign': median_sign\n",
        "            })\n",
        "\n",
        "            # # visualize the fit\n",
        "            # self.plot_many_fit(obs_shrinking_slice, tc, m, w, overlay=True,\n",
        "            #               path_out='/Users/joshnielsen/Desktop/newfits_testing/{}-{}.png'.format(n_iter, j))\n",
        "        return cofs\n",
        "\n",
        "    def _get_tc_bounds(self, obs, lower_bound_pct, upper_bound_pct):\n",
        "        \"\"\"\n",
        "        Args:\n",
        "            obs (Mx2 numpy array): the observed data\n",
        "            lower_bound_pct (float): percent of (t_2 - t_1) to use as the LOWER bound initial value for the optimization\n",
        "            upper_bound_pct (float): percent of (t_2 - t_1) to use as the UPPER bound initial value for the optimization\n",
        "        Returns:\n",
        "            tc_init_min, tc_init_max\n",
        "        \"\"\"\n",
        "        t_first = obs[0, 0]\n",
        "        t_last = obs[0, -1]\n",
        "        t_delta = t_last - t_first\n",
        "        pct_delta_min = t_delta * lower_bound_pct\n",
        "        pct_delta_max = t_delta * upper_bound_pct\n",
        "        tc_init_min = t_last - pct_delta_min\n",
        "        tc_init_max = t_last + pct_delta_max\n",
        "        return tc_init_min, tc_init_max"
      ],
      "execution_count": 0,
      "outputs": []
    },
    {
      "cell_type": "markdown",
      "metadata": {
        "id": "Cgm2BfCmg0oz",
        "colab_type": "text"
      },
      "source": [
        " Here they are using minimzer from scikit.optimize for minimizing the LPPL model.The model can be plotted and can be seen.\n",
        "\n",
        "> In this cell i have used the NSE data and tried to model using this LPPL to predict the stock prices \n",
        "\n",
        "\n"
      ]
    },
    {
      "cell_type": "code",
      "metadata": {
        "id": "RFl-iRIgB1c4",
        "colab_type": "code",
        "colab": {}
      },
      "source": [
        "import numpy as np\n",
        "import pandas as pd\n",
        "%matplotlib inline\n",
        "\n",
        "# convert index col to evenly spaced numbers over a specified interval\n",
        "time = np.linspace(0, len(data)-1, len(data))\n",
        "\n",
        "price = [p for p in data['Close']]\n",
        "\n",
        "# create Mx2 matrix (expected format for LPPLS observations)\n",
        "observations = np.array([time, price])\n",
        "\n",
        "# set the max number for searches to perform before giving-up\n",
        "# the literature suggests 25\n",
        "MAX_SEARCHES = 25\n",
        "\n",
        "# instantiate a new LPPLS model with the NSE dataset\n",
        "lppl_model = LPPLS(use_ln=True, observations=observations)\n",
        "\n",
        "# fit the model to the data and get back the params\n",
        "tc, m, w, a, b, c = lppl_model.fit(observations, MAX_SEARCHES,minimizer='Nelder-Mead')\n",
        "# visualize the fit\n",
        "lppl_model.plot_fit(observations, tc, m, w)"
      ],
      "execution_count": 0,
      "outputs": []
    },
    {
      "cell_type": "markdown",
      "metadata": {
        "id": "7NIqkHQcjW8h",
        "colab_type": "text"
      },
      "source": [
        "Now the GreyWolfOptimizer is used to optimize the above defined LPPL model\n",
        "\n",
        "> Inorder to optimizer the model , i have used the Nature Inspired algorithm package in python [NiaPy](https://niapy.readthedocs.io/en/2/index.html) "
      ]
    },
    {
      "cell_type": "code",
      "metadata": {
        "id": "of4w_ElqkpVK",
        "colab_type": "code",
        "colab": {}
      },
      "source": [
        "!pip install NiaPy"
      ],
      "execution_count": 0,
      "outputs": []
    },
    {
      "cell_type": "code",
      "metadata": {
        "id": "-Qul-amYkAc1",
        "colab_type": "code",
        "outputId": "1fbbc650-f95e-42a7-a770-f84e0bce250a",
        "colab": {
          "base_uri": "https://localhost:8080/",
          "height": 229
        }
      },
      "source": [
        "from NiaPy.algorithms.basic import GreyWolfOptimizer\n",
        "\n",
        "# Run 10 repetitions of Grey Wolf Optimizer against benchmark function defined earlier\n",
        "for i in range(10):\n",
        "    # first parameter takes dimension of problem\n",
        "    # second parameter is population size\n",
        "    # third parameter takes the number of function evaluations\n",
        "    # fourth parameter is benchmark function\n",
        "    algorithm = GreyWolfOptimizer(10, 20 , 10000,lppl_model)\n",
        "    # running algorithm returns best found minimum\n",
        "    best = algorithm.run()\n",
        "    print(best)"
      ],
      "execution_count": 4,
      "outputs": [
        {
          "output_type": "error",
          "ename": "NameError",
          "evalue": "ignored",
          "traceback": [
            "\u001b[0;31m---------------------------------------------------------------------------\u001b[0m",
            "\u001b[0;31mNameError\u001b[0m                                 Traceback (most recent call last)",
            "\u001b[0;32m<ipython-input-4-c769bfb000ba>\u001b[0m in \u001b[0;36m<module>\u001b[0;34m()\u001b[0m\n\u001b[1;32m      7\u001b[0m     \u001b[0;31m# third parameter takes the number of function evaluations\u001b[0m\u001b[0;34m\u001b[0m\u001b[0;34m\u001b[0m\u001b[0;34m\u001b[0m\u001b[0m\n\u001b[1;32m      8\u001b[0m     \u001b[0;31m# fourth parameter is benchmark function\u001b[0m\u001b[0;34m\u001b[0m\u001b[0;34m\u001b[0m\u001b[0;34m\u001b[0m\u001b[0m\n\u001b[0;32m----> 9\u001b[0;31m     \u001b[0malgorithm\u001b[0m \u001b[0;34m=\u001b[0m \u001b[0mGreyWolfOptimizer\u001b[0m\u001b[0;34m(\u001b[0m\u001b[0;36m10\u001b[0m\u001b[0;34m,\u001b[0m \u001b[0;36m20\u001b[0m \u001b[0;34m,\u001b[0m \u001b[0;36m10000\u001b[0m\u001b[0;34m,\u001b[0m\u001b[0mlppl_model\u001b[0m\u001b[0;34m)\u001b[0m\u001b[0;34m\u001b[0m\u001b[0;34m\u001b[0m\u001b[0m\n\u001b[0m\u001b[1;32m     10\u001b[0m     \u001b[0;31m# running algorithm returns best found minimum\u001b[0m\u001b[0;34m\u001b[0m\u001b[0;34m\u001b[0m\u001b[0;34m\u001b[0m\u001b[0m\n\u001b[1;32m     11\u001b[0m     \u001b[0mbest\u001b[0m \u001b[0;34m=\u001b[0m \u001b[0malgorithm\u001b[0m\u001b[0;34m.\u001b[0m\u001b[0mrun\u001b[0m\u001b[0;34m(\u001b[0m\u001b[0;34m)\u001b[0m\u001b[0;34m\u001b[0m\u001b[0;34m\u001b[0m\u001b[0m\n",
            "\u001b[0;31mNameError\u001b[0m: name 'lppl_model' is not defined"
          ]
        }
      ]
    },
    {
      "cell_type": "markdown",
      "metadata": {
        "id": "nNQSKVzilsbt",
        "colab_type": "text"
      },
      "source": [
        "\n",
        "\n",
        "> Some dependency issues are coming with this GWO which i couldn't rectify \n",
        "\n",
        "> The benchmark function passed to the GWO is returning None values even after adding the bound as said [here](https://niapy.readthedocs.io/en/2/getting_started.html#advanced-example) \n",
        "\n",
        "\n",
        "\n"
      ]
    },
    {
      "cell_type": "markdown",
      "metadata": {
        "id": "zZ05wezHXGqH",
        "colab_type": "text"
      },
      "source": [
        "##2. Optimize the log-periodic power law (LPPL) parameters using TABU Search optimizer for predicting stock price crisis."
      ]
    },
    {
      "cell_type": "markdown",
      "metadata": {
        "id": "KSriv1CmnF_-",
        "colab_type": "text"
      },
      "source": [
        "###I didn't tried out this question as couldn't get any python implementation "
      ]
    },
    {
      "cell_type": "code",
      "metadata": {
        "id": "kqXq_bCvX-uD",
        "colab_type": "code",
        "colab": {}
      },
      "source": [
        ""
      ],
      "execution_count": 0,
      "outputs": []
    },
    {
      "cell_type": "markdown",
      "metadata": {
        "id": "otPfG4avXQMI",
        "colab_type": "text"
      },
      "source": [
        "##3. Optimize the log-periodic power law (LPPL) parameters Differential Evolution (DE) for predicting stock price crisis."
      ]
    },
    {
      "cell_type": "code",
      "metadata": {
        "id": "GXTukQDgfbuY",
        "colab_type": "code",
        "colab": {
          "base_uri": "https://localhost:8080/",
          "height": 295
        },
        "outputId": "7e264bda-7dbf-43bf-ec39-139d64776483"
      },
      "source": [
        "import numpy as np\n",
        "import matplotlib.pyplot as plt\n",
        "from scipy.optimize import differential_evolution\n",
        "\n",
        "bound = [(1,1500),(-10,10),(600,650),(1,2),(-1,1),(0,2),(-1,1)] \n",
        "global Series\n",
        "Series = [time, price]\n",
        "\n",
        "def lppl (t,x):\n",
        "    a = x[0]\n",
        "    b = x[1]\n",
        "    tc = x[2]\n",
        "    m = x[3]\n",
        "    c = x[4]\n",
        "    w = x[5]\n",
        "    phi = x[6]\n",
        "    res=1;\n",
        "    if abs(tc-t)>1:\n",
        "        res=abs(tc-t);\n",
        "    return a - (b*np.power(tc - t, m))*(1 + (c*np.cos((w *np.log(res))+phi)))  \n",
        "\n",
        "def function(x):\n",
        "    \n",
        "    func = [lppl(t,x) for t in Series[0]]  \n",
        "    func= np.subtract(func, Series[1])\n",
        "    func = np.power(func, 2)\n",
        "    return np.sum(func);\n",
        "\n",
        "def getSeries(x):\n",
        "    \n",
        "    series = [lppl(t,x) for t in Series[0]]\n",
        "    return series;\n",
        "\n",
        "result = differential_evolution(function, bound)\n",
        "plt.plot(Series[0], getSeries(result.x))\n",
        "plt.scatter(Series[0], Series[1],color=\"green\")\n",
        "plt.xlabel(\"Time\")\n",
        "plt.ylabel(\"Stock Price\")\n",
        "plt.title(\"LPPL with DE\")\n",
        "plt.show()"
      ],
      "execution_count": 3,
      "outputs": [
        {
          "output_type": "display_data",
          "data": {
            "image/png": "[encoded data removed]",
            "text/plain": [
              "<Figure size 432x288 with 1 Axes>"
            ]
          },
          "metadata": {
            "tags": [],
            "needs_background": "light"
          }
        }
      ]
    },
    {
      "cell_type": "markdown",
      "metadata": {
        "id": "6_OAWbWxXaAS",
        "colab_type": "text"
      },
      "source": [
        "##4. Optimize the log-periodic power law (LPPL) parameters Evolutionary Programming (EP) for predicting stock price crisis."
      ]
    },
    {
      "cell_type": "code",
      "metadata": {
        "id": "tx5EwFnmYA2n",
        "colab_type": "code",
        "colab": {}
      },
      "source": [
        ""
      ],
      "execution_count": 0,
      "outputs": []
    },
    {
      "cell_type": "markdown",
      "metadata": {
        "id": "aygWxhZT0883",
        "colab_type": "text"
      },
      "source": [
        "##5.How COVID 19 pandemic impact on stock prices and find out correlation between COVID 19 and stock price and develop machine learning or statistical model for predict the same."
      ]
    },
    {
      "cell_type": "markdown",
      "metadata": {
        "id": "aStWA24Rptuy",
        "colab_type": "text"
      },
      "source": [
        "*   Here a linear model is used to find out the correlation between the stock price crisis and covid19 cases which are reported everyday. \n",
        "*   I haved used every covid19 cases against the closing stock price of NSE \n",
        "\n",
        "\n"
      ]
    },
    {
      "cell_type": "code",
      "metadata": {
        "id": "B4fKape6p434",
        "colab_type": "code",
        "outputId": "66233e76-f281-4c62-d554-50b6fe42cd32",
        "colab": {
          "base_uri": "https://localhost:8080/",
          "height": 195
        }
      },
      "source": [
        "data.head()"
      ],
      "execution_count": 0,
      "outputs": [
        {
          "output_type": "execute_result",
          "data": {
            "text/html": [
              "<div>\n",
              "<style scoped>\n",
              "    .dataframe tbody tr th:only-of-type {\n",
              "        vertical-align: middle;\n",
              "    }\n",
              "\n",
              "    .dataframe tbody tr th {\n",
              "        vertical-align: top;\n",
              "    }\n",
              "\n",
              "    .dataframe thead th {\n",
              "        text-align: right;\n",
              "    }\n",
              "</style>\n",
              "<table border=\"1\" class=\"dataframe\">\n",
              "  <thead>\n",
              "    <tr style=\"text-align: right;\">\n",
              "      <th></th>\n",
              "      <th>Date</th>\n",
              "      <th>Open</th>\n",
              "      <th>High</th>\n",
              "      <th>Low</th>\n",
              "      <th>Close</th>\n",
              "      <th>Shares Traded</th>\n",
              "      <th>Turnover (Rs. Cr)</th>\n",
              "      <th>Covid</th>\n",
              "    </tr>\n",
              "  </thead>\n",
              "  <tbody>\n",
              "    <tr>\n",
              "      <th>0</th>\n",
              "      <td>30-Jan-20</td>\n",
              "      <td>12147.75</td>\n",
              "      <td>12150.30</td>\n",
              "      <td>12010.60</td>\n",
              "      <td>12035.80</td>\n",
              "      <td>538138743</td>\n",
              "      <td>19372.67</td>\n",
              "      <td>1</td>\n",
              "    </tr>\n",
              "    <tr>\n",
              "      <th>1</th>\n",
              "      <td>31-Jan-20</td>\n",
              "      <td>12100.40</td>\n",
              "      <td>12103.55</td>\n",
              "      <td>11945.85</td>\n",
              "      <td>11962.10</td>\n",
              "      <td>771278258</td>\n",
              "      <td>26044.91</td>\n",
              "      <td>0</td>\n",
              "    </tr>\n",
              "    <tr>\n",
              "      <th>2</th>\n",
              "      <td>1-Feb-20</td>\n",
              "      <td>11939.00</td>\n",
              "      <td>12017.35</td>\n",
              "      <td>11633.30</td>\n",
              "      <td>11661.85</td>\n",
              "      <td>537634767</td>\n",
              "      <td>20598.12</td>\n",
              "      <td>0</td>\n",
              "    </tr>\n",
              "    <tr>\n",
              "      <th>3</th>\n",
              "      <td>3-Feb-20</td>\n",
              "      <td>11627.45</td>\n",
              "      <td>11749.85</td>\n",
              "      <td>11614.50</td>\n",
              "      <td>11707.90</td>\n",
              "      <td>669815788</td>\n",
              "      <td>25415.26</td>\n",
              "      <td>0</td>\n",
              "    </tr>\n",
              "    <tr>\n",
              "      <th>4</th>\n",
              "      <td>4-Feb-20</td>\n",
              "      <td>11786.25</td>\n",
              "      <td>11986.15</td>\n",
              "      <td>11783.40</td>\n",
              "      <td>11979.65</td>\n",
              "      <td>560430291</td>\n",
              "      <td>22338.5</td>\n",
              "      <td>1</td>\n",
              "    </tr>\n",
              "  </tbody>\n",
              "</table>\n",
              "</div>"
            ],
            "text/plain": [
              "        Date      Open      High  ...  Shares Traded  Turnover (Rs. Cr) Covid\n",
              "0  30-Jan-20  12147.75  12150.30  ...      538138743           19372.67     1\n",
              "1  31-Jan-20  12100.40  12103.55  ...      771278258           26044.91     0\n",
              "2   1-Feb-20  11939.00  12017.35  ...      537634767           20598.12     0\n",
              "3   3-Feb-20  11627.45  11749.85  ...      669815788           25415.26     0\n",
              "4   4-Feb-20  11786.25  11986.15  ...      560430291            22338.5     1\n",
              "\n",
              "[5 rows x 8 columns]"
            ]
          },
          "metadata": {
            "tags": []
          },
          "execution_count": 2
        }
      ]
    },
    {
      "cell_type": "markdown",
      "metadata": {
        "id": "xQfDkGWpqeAQ",
        "colab_type": "text"
      },
      "source": [
        "* Let's plot and check the overall trend for the covid19 cases and the stock closing price over the period when covid19 started in India(from january 30 to May 29 is considered here)\n",
        "* It can be clearly seen that as the number of covid19 cases are increasing the stock tends to fall\n",
        "\n"
      ]
    },
    {
      "cell_type": "code",
      "metadata": {
        "id": "azJj8mOfqbzT",
        "colab_type": "code",
        "outputId": "08c19dc0-c8af-476f-db32-3e06b6536b41",
        "colab": {
          "base_uri": "https://localhost:8080/",
          "height": 295
        }
      },
      "source": [
        "import matplotlib.pyplot as plt\n",
        "X=data.index\n",
        "Y1=data['Close']\n",
        "Y2=data['Covid']\n",
        "plt.xlabel('Time')\n",
        "plt.ylabel('Stock Price and Covid Cases')\n",
        "plt.title('Stock Vs Covid19(India)')\n",
        "plt.plot(X,Y1)\n",
        "plt.plot(X,Y2)\n",
        "plt.legend(['Close Price','Corona Cases'])\n",
        "plt.show()"
      ],
      "execution_count": 0,
      "outputs": [
        {
          "output_type": "display_data",
          "data": {
            "image/png": "[encoded data removed]",
            "text/plain": [
              "<Figure size 432x288 with 1 Axes>"
            ]
          },
          "metadata": {
            "tags": [],
            "needs_background": "light"
          }
        }
      ]
    },
    {
      "cell_type": "markdown",
      "metadata": {
        "id": "-xI-rsNVlaOa",
        "colab_type": "text"
      },
      "source": [
        "* Let's Plot the covid cases with stock price and build a linear model for the same"
      ]
    },
    {
      "cell_type": "code",
      "metadata": {
        "id": "8srMZgVhzhHx",
        "colab_type": "code",
        "outputId": "f394f21a-edec-475c-f776-d3433d3b967e",
        "colab": {
          "base_uri": "https://localhost:8080/",
          "height": 295
        }
      },
      "source": [
        "X=data['Covid']\n",
        "Y=data['Close']\n",
        "plt.xlabel('Covid19 Cases')\n",
        "plt.ylabel('Stock Close Price')\n",
        "plt.title('Covid19(India) Vs NIFTY50')\n",
        "plt.scatter(X,Y)\n",
        "plt.show()"
      ],
      "execution_count": 0,
      "outputs": [
        {
          "output_type": "display_data",
          "data": {
            "image/png": "[encoded data removed]",
            "text/plain": [
              "<Figure size 432x288 with 1 Axes>"
            ]
          },
          "metadata": {
            "tags": [],
            "needs_background": "light"
          }
        }
      ]
    },
    {
      "cell_type": "markdown",
      "metadata": {
        "id": "RAEavzv2mnbt",
        "colab_type": "text"
      },
      "source": [
        "* Here I have used sklearn.model_selection to split data into training and testing \n",
        "* The splitted data is build using the Linea Regression model from sklearn.model_selection\n"
      ]
    },
    {
      "cell_type": "code",
      "metadata": {
        "id": "qW5a0NwlhkgA",
        "colab_type": "code",
        "colab": {}
      },
      "source": [
        "import numpy as np\n",
        "from sklearn.model_selection import train_test_split\n",
        "X=data.Covid.values.reshape(-1,1)\n",
        "y=data.Close.values.reshape(-1,1)\n",
        "X_train,X_test,y_train,y_test=train_test_split(X,y,test_size=0.15)"
      ],
      "execution_count": 0,
      "outputs": []
    },
    {
      "cell_type": "code",
      "metadata": {
        "id": "61cGLkd6icHd",
        "colab_type": "code",
        "outputId": "292f1306-60fc-4539-e8b7-beccf03dcd5d",
        "colab": {
          "base_uri": "https://localhost:8080/",
          "height": 34
        }
      },
      "source": [
        "from sklearn.linear_model import LinearRegression\n",
        "LR=LinearRegression()\n",
        "LR.fit(X_train,y_train)"
      ],
      "execution_count": 0,
      "outputs": [
        {
          "output_type": "execute_result",
          "data": {
            "text/plain": [
              "LinearRegression(copy_X=True, fit_intercept=True, n_jobs=None, normalize=False)"
            ]
          },
          "metadata": {
            "tags": []
          },
          "execution_count": 8
        }
      ]
    },
    {
      "cell_type": "markdown",
      "metadata": {
        "id": "57YXPfwkpaa9",
        "colab_type": "text"
      },
      "source": [
        "* The LR model build is fitted with the training data \n",
        "* The testing set is used to test and find out the correlation coefficients and the Mean Squared Error"
      ]
    },
    {
      "cell_type": "code",
      "metadata": {
        "id": "pJ7zflQ5uNVT",
        "colab_type": "code",
        "colab": {}
      },
      "source": [
        "prediction=LR.predict(X_test)"
      ],
      "execution_count": 0,
      "outputs": []
    },
    {
      "cell_type": "code",
      "metadata": {
        "id": "4hxsEUofwdvN",
        "colab_type": "code",
        "colab": {}
      },
      "source": [
        "from sklearn.metrics import mean_squared_error,r2_score\n",
        "print(f'Mean Squared Error:{mean_squared_error(y_test,prediction)}')"
      ],
      "execution_count": 0,
      "outputs": []
    },
    {
      "cell_type": "markdown",
      "metadata": {
        "id": "BD4iL0eBt_Zu",
        "colab_type": "text"
      },
      "source": [
        "* The plot below shows the fit for the covid vs stock price\n",
        "* From the plot it can be seen that it's not a perfect fit \n",
        "* The coefficeint of determination also says the same"
      ]
    },
    {
      "cell_type": "code",
      "metadata": {
        "id": "O_p6C2C9x5fD",
        "colab_type": "code",
        "outputId": "1389601a-c8b5-47cd-df05-782be54e8afd",
        "colab": {
          "base_uri": "https://localhost:8080/",
          "height": 265
        }
      },
      "source": [
        "plt.scatter(X_test,y_test,color='green')\n",
        "plt.plot(X_test,prediction,label='Linear Regression')\n",
        "plt.legend()\n",
        "plt.show()"
      ],
      "execution_count": 0,
      "outputs": [
        {
          "output_type": "display_data",
          "data": {
            "image/png": "[encoded data removed]",
            "text/plain": [
              "<Figure size 432x288 with 1 Axes>"
            ]
          },
          "metadata": {
            "tags": [],
            "needs_background": "light"
          }
        }
      ]
    },
    {
      "cell_type": "code",
      "metadata": {
        "id": "ZYGrOufIWLeQ",
        "colab_type": "code",
        "outputId": "78e302b2-272c-40da-b253-7de3e9394ccc",
        "colab": {
          "base_uri": "https://localhost:8080/",
          "height": 50
        }
      },
      "source": [
        "print(f'Coefficients:{LR.coef_}')\n",
        "print(f'Coefficient of determination:{r2_score(y_test,prediction)}')"
      ],
      "execution_count": 0,
      "outputs": [
        {
          "output_type": "stream",
          "text": [
            "Coefficients:[[-0.23972319]]\n",
            "Coefficient of determination:0.3579065814217355\n"
          ],
          "name": "stdout"
        }
      ]
    },
    {
      "cell_type": "markdown",
      "metadata": {
        "id": "KjBvJDREv7Z5",
        "colab_type": "text"
      },
      "source": [
        "\n",
        "\n",
        "> Here I have build a Polynomial Regression model and tried with different degrees\n",
        "\n",
        "> Here polynomial function of degree 2 is used to be build the model and further prediction\n",
        "\n"
      ]
    },
    {
      "cell_type": "code",
      "metadata": {
        "id": "PuFJXVb9L5Zc",
        "colab_type": "code",
        "outputId": "2694bca2-b443-45c3-b816-b40eb6274a72",
        "colab": {
          "base_uri": "https://localhost:8080/",
          "height": 151
        }
      },
      "source": [
        "from sklearn.preprocessing import PolynomialFeatures\n",
        "#from sklearn.linear_model import Perceptron\n",
        "from sklearn.pipeline import Pipeline\n",
        "model = Pipeline([('poly',PolynomialFeatures(degree=2)),('Linear',LinearRegression())])\n",
        "model.fit(X_train,y_train)"
      ],
      "execution_count": 0,
      "outputs": [
        {
          "output_type": "execute_result",
          "data": {
            "text/plain": [
              "Pipeline(memory=None,\n",
              "         steps=[('poly',\n",
              "                 PolynomialFeatures(degree=2, include_bias=True,\n",
              "                                    interaction_only=False, order='C')),\n",
              "                ('Linear',\n",
              "                 LinearRegression(copy_X=True, fit_intercept=True, n_jobs=None,\n",
              "                                  normalize=False))],\n",
              "         verbose=False)"
            ]
          },
          "metadata": {
            "tags": []
          },
          "execution_count": 19
        }
      ]
    },
    {
      "cell_type": "code",
      "metadata": {
        "id": "2BsM56RAMsPa",
        "colab_type": "code",
        "colab": {}
      },
      "source": [
        "predict_poly=model.predict(X_test)"
      ],
      "execution_count": 0,
      "outputs": []
    },
    {
      "cell_type": "code",
      "metadata": {
        "id": "It7TVov8M3lr",
        "colab_type": "code",
        "outputId": "84f47ac6-3d82-4f87-f9c0-6b90c72bbf7e",
        "colab": {
          "base_uri": "https://localhost:8080/",
          "height": 265
        }
      },
      "source": [
        "plt.scatter(X_test,y_test,color='green')\n",
        "plt.scatter(X_test,predict_poly,label='Polynomial Regression')\n",
        "plt.legend()\n",
        "plt.show()"
      ],
      "execution_count": 0,
      "outputs": [
        {
          "output_type": "display_data",
          "data": {
            "image/png": "[encoded data removed]",
            "text/plain": [
              "<Figure size 432x288 with 1 Axes>"
            ]
          },
          "metadata": {
            "tags": [],
            "needs_background": "light"
          }
        }
      ]
    },
    {
      "cell_type": "code",
      "metadata": {
        "id": "1ykkduMGMe1c",
        "colab_type": "code",
        "outputId": "ab28c193-21a4-48c6-e5a8-3d3b31fa3e4e",
        "colab": {
          "base_uri": "https://localhost:8080/",
          "height": 34
        }
      },
      "source": [
        "model.named_steps['Linear'].coef_"
      ],
      "execution_count": 0,
      "outputs": [
        {
          "output_type": "execute_result",
          "data": {
            "text/plain": [
              "array([[ 0.00000000e+00, -9.09782269e-01,  1.12095845e-04]])"
            ]
          },
          "metadata": {
            "tags": []
          },
          "execution_count": 23
        }
      ]
    },
    {
      "cell_type": "code",
      "metadata": {
        "id": "y33r-AfWPgsI",
        "colab_type": "code",
        "outputId": "e1ca4318-6159-42ae-81f6-63fae1ecc409",
        "colab": {
          "base_uri": "https://localhost:8080/",
          "height": 50
        }
      },
      "source": [
        "print(f'Mean Squared Error:{mean_squared_error(y_test,predict_poly)}')\n",
        "print(f'Coefficient of determination:{r2_score(y_test,predict_poly)}')"
      ],
      "execution_count": 0,
      "outputs": [
        {
          "output_type": "stream",
          "text": [
            "Mean Squared Error:1170920.010085906\n",
            "Coefficient of determination:0.21374304500554397\n"
          ],
          "name": "stdout"
        }
      ]
    },
    {
      "cell_type": "markdown",
      "metadata": {
        "id": "DSMcgjM7XjlQ",
        "colab_type": "text"
      },
      "source": [
        "##6. How crude oil crisis impact on stock index and find out correlation between crude oil and stock index and develop machine learning or statistical model for predict the same."
      ]
    },
    {
      "cell_type": "markdown",
      "metadata": {
        "id": "mE-NZam4_GUe",
        "colab_type": "text"
      },
      "source": [
        "* Here the same data as referred earlier will be used for stock price \n",
        "* The crude oil dataset is loaded in the pandas dataframe datacrud\n",
        "* Here a linear model is used to find out the correlation between the stock price crisis and crude oil price which are reported everyday. \n",
        "* I haved used every day crude oil against the closing stock price of NIFTY50"
      ]
    },
    {
      "cell_type": "code",
      "metadata": {
        "id": "48eujSdnXz3L",
        "colab_type": "code",
        "outputId": "82f757c9-c757-4a87-dbda-1fcc268906ad",
        "colab": {
          "base_uri": "https://localhost:8080/",
          "height": 246
        }
      },
      "source": [
        "import pandas as pd\n",
        "\n",
        "datacrud.head()"
      ],
      "execution_count": 0,
      "outputs": [
        {
          "output_type": "execute_result",
          "data": {
            "text/html": [
              "<div>\n",
              "<style scoped>\n",
              "    .dataframe tbody tr th:only-of-type {\n",
              "        vertical-align: middle;\n",
              "    }\n",
              "\n",
              "    .dataframe tbody tr th {\n",
              "        vertical-align: top;\n",
              "    }\n",
              "\n",
              "    .dataframe thead th {\n",
              "        text-align: right;\n",
              "    }\n",
              "</style>\n",
              "<table border=\"1\" class=\"dataframe\">\n",
              "  <thead>\n",
              "    <tr style=\"text-align: right;\">\n",
              "      <th></th>\n",
              "      <th>Instrument Type</th>\n",
              "      <th>Date</th>\n",
              "      <th>Segment</th>\n",
              "      <th>Commodity</th>\n",
              "      <th>Traded Contract(Lots)</th>\n",
              "      <th>Total Value (Lacs)</th>\n",
              "      <th>Avg Daily Turnover (Lacs)</th>\n",
              "      <th>Unnamed: 7</th>\n",
              "    </tr>\n",
              "  </thead>\n",
              "  <tbody>\n",
              "    <tr>\n",
              "      <th>0</th>\n",
              "      <td>FUTCOM</td>\n",
              "      <td>30-Jan-20</td>\n",
              "      <td>ENERGY</td>\n",
              "      <td>CRUDEOIL</td>\n",
              "      <td>403222</td>\n",
              "      <td>1512177.37</td>\n",
              "      <td>0.0</td>\n",
              "      <td>NaN</td>\n",
              "    </tr>\n",
              "    <tr>\n",
              "      <th>1</th>\n",
              "      <td>FUTCOM</td>\n",
              "      <td>31-Jan-20</td>\n",
              "      <td>ENERGY</td>\n",
              "      <td>CRUDEOIL</td>\n",
              "      <td>486278</td>\n",
              "      <td>1816467.07</td>\n",
              "      <td>0.0</td>\n",
              "      <td>NaN</td>\n",
              "    </tr>\n",
              "    <tr>\n",
              "      <th>2</th>\n",
              "      <td>FUTCOM</td>\n",
              "      <td>1-Feb-20</td>\n",
              "      <td>ENERGY</td>\n",
              "      <td>CRUDEOIL</td>\n",
              "      <td>20324</td>\n",
              "      <td>74741.67</td>\n",
              "      <td>0.0</td>\n",
              "      <td>NaN</td>\n",
              "    </tr>\n",
              "    <tr>\n",
              "      <th>3</th>\n",
              "      <td>FUTCOM</td>\n",
              "      <td>3-Feb-20</td>\n",
              "      <td>ENERGY</td>\n",
              "      <td>CRUDEOIL</td>\n",
              "      <td>566581</td>\n",
              "      <td>2076613.38</td>\n",
              "      <td>0.0</td>\n",
              "      <td>NaN</td>\n",
              "    </tr>\n",
              "    <tr>\n",
              "      <th>4</th>\n",
              "      <td>FUTCOM</td>\n",
              "      <td>4-Feb-20</td>\n",
              "      <td>ENERGY</td>\n",
              "      <td>CRUDEOIL</td>\n",
              "      <td>580187</td>\n",
              "      <td>2101216.42</td>\n",
              "      <td>0.0</td>\n",
              "      <td>NaN</td>\n",
              "    </tr>\n",
              "  </tbody>\n",
              "</table>\n",
              "</div>"
            ],
            "text/plain": [
              "  Instrument Type       Date  ... Avg Daily Turnover (Lacs) Unnamed: 7\n",
              "0          FUTCOM  30-Jan-20  ...                       0.0        NaN\n",
              "1          FUTCOM  31-Jan-20  ...                       0.0        NaN\n",
              "2          FUTCOM   1-Feb-20  ...                       0.0        NaN\n",
              "3          FUTCOM   3-Feb-20  ...                       0.0        NaN\n",
              "4          FUTCOM   4-Feb-20  ...                       0.0        NaN\n",
              "\n",
              "[5 rows x 8 columns]"
            ]
          },
          "metadata": {
            "tags": []
          },
          "execution_count": 25
        }
      ]
    },
    {
      "cell_type": "code",
      "metadata": {
        "id": "72ssZtZUT8UP",
        "colab_type": "code",
        "colab": {}
      },
      "source": [
        "del datacrud['Unnamed: 7']"
      ],
      "execution_count": 0,
      "outputs": []
    },
    {
      "cell_type": "code",
      "metadata": {
        "id": "mgggAEsaUMGB",
        "colab_type": "code",
        "outputId": "b37eeec6-b41e-4125-e148-f35375d0fcaa",
        "colab": {
          "base_uri": "https://localhost:8080/",
          "height": 195
        }
      },
      "source": [
        "datacrud.head()"
      ],
      "execution_count": 0,
      "outputs": [
        {
          "output_type": "execute_result",
          "data": {
            "text/html": [
              "<div>\n",
              "<style scoped>\n",
              "    .dataframe tbody tr th:only-of-type {\n",
              "        vertical-align: middle;\n",
              "    }\n",
              "\n",
              "    .dataframe tbody tr th {\n",
              "        vertical-align: top;\n",
              "    }\n",
              "\n",
              "    .dataframe thead th {\n",
              "        text-align: right;\n",
              "    }\n",
              "</style>\n",
              "<table border=\"1\" class=\"dataframe\">\n",
              "  <thead>\n",
              "    <tr style=\"text-align: right;\">\n",
              "      <th></th>\n",
              "      <th>Instrument Type</th>\n",
              "      <th>Date</th>\n",
              "      <th>Segment</th>\n",
              "      <th>Commodity</th>\n",
              "      <th>Traded Contract(Lots)</th>\n",
              "      <th>Total Value (Lacs)</th>\n",
              "      <th>Avg Daily Turnover (Lacs)</th>\n",
              "    </tr>\n",
              "  </thead>\n",
              "  <tbody>\n",
              "    <tr>\n",
              "      <th>0</th>\n",
              "      <td>FUTCOM</td>\n",
              "      <td>30-Jan-20</td>\n",
              "      <td>ENERGY</td>\n",
              "      <td>CRUDEOIL</td>\n",
              "      <td>403222</td>\n",
              "      <td>1512177.37</td>\n",
              "      <td>0.0</td>\n",
              "    </tr>\n",
              "    <tr>\n",
              "      <th>1</th>\n",
              "      <td>FUTCOM</td>\n",
              "      <td>31-Jan-20</td>\n",
              "      <td>ENERGY</td>\n",
              "      <td>CRUDEOIL</td>\n",
              "      <td>486278</td>\n",
              "      <td>1816467.07</td>\n",
              "      <td>0.0</td>\n",
              "    </tr>\n",
              "    <tr>\n",
              "      <th>2</th>\n",
              "      <td>FUTCOM</td>\n",
              "      <td>1-Feb-20</td>\n",
              "      <td>ENERGY</td>\n",
              "      <td>CRUDEOIL</td>\n",
              "      <td>20324</td>\n",
              "      <td>74741.67</td>\n",
              "      <td>0.0</td>\n",
              "    </tr>\n",
              "    <tr>\n",
              "      <th>3</th>\n",
              "      <td>FUTCOM</td>\n",
              "      <td>3-Feb-20</td>\n",
              "      <td>ENERGY</td>\n",
              "      <td>CRUDEOIL</td>\n",
              "      <td>566581</td>\n",
              "      <td>2076613.38</td>\n",
              "      <td>0.0</td>\n",
              "    </tr>\n",
              "    <tr>\n",
              "      <th>4</th>\n",
              "      <td>FUTCOM</td>\n",
              "      <td>4-Feb-20</td>\n",
              "      <td>ENERGY</td>\n",
              "      <td>CRUDEOIL</td>\n",
              "      <td>580187</td>\n",
              "      <td>2101216.42</td>\n",
              "      <td>0.0</td>\n",
              "    </tr>\n",
              "  </tbody>\n",
              "</table>\n",
              "</div>"
            ],
            "text/plain": [
              "  Instrument Type       Date  ... Total Value (Lacs) Avg Daily Turnover (Lacs)\n",
              "0          FUTCOM  30-Jan-20  ...         1512177.37                       0.0\n",
              "1          FUTCOM  31-Jan-20  ...         1816467.07                       0.0\n",
              "2          FUTCOM   1-Feb-20  ...           74741.67                       0.0\n",
              "3          FUTCOM   3-Feb-20  ...         2076613.38                       0.0\n",
              "4          FUTCOM   4-Feb-20  ...         2101216.42                       0.0\n",
              "\n",
              "[5 rows x 7 columns]"
            ]
          },
          "metadata": {
            "tags": []
          },
          "execution_count": 27
        }
      ]
    },
    {
      "cell_type": "markdown",
      "metadata": {
        "id": "AQ884RUQCDyJ",
        "colab_type": "text"
      },
      "source": [
        "* Let's plot and check the overall trend for the crude oil price and the stock closing price.\n",
        "* It can be clearly seen that there is a correlation between the stock price and crude oil price."
      ]
    },
    {
      "cell_type": "code",
      "metadata": {
        "id": "4yU6n0Bfao8T",
        "colab_type": "code",
        "outputId": "92516d8b-5a45-492e-b6c1-e50b72533553",
        "colab": {
          "base_uri": "https://localhost:8080/",
          "height": 295
        }
      },
      "source": [
        "import matplotlib.pyplot as plt\n",
        "X=datacrud.index\n",
        "Y1=datacrud['Total Value (Lacs)']/100\n",
        "Y2=data['Close']\n",
        "plt.xlabel('Time')\n",
        "plt.ylabel('Crude Oil Price and Stock Price')\n",
        "plt.title('Crude Oil Vs Stock')\n",
        "plt.plot(X,Y1)\n",
        "plt.plot(X,Y2)\n",
        "plt.legend(['Total Value','Stock Price'])\n",
        "plt.show()"
      ],
      "execution_count": 0,
      "outputs": [
        {
          "output_type": "display_data",
          "data": {
            "image/png": "[encoded data removed]",
            "text/plain": [
              "<Figure size 432x288 with 1 Axes>"
            ]
          },
          "metadata": {
            "tags": [],
            "needs_background": "light"
          }
        }
      ]
    },
    {
      "cell_type": "markdown",
      "metadata": {
        "id": "6AGFJYz8Dy5V",
        "colab_type": "text"
      },
      "source": [
        "* Here I have plotted the stock price vs crude oil price "
      ]
    },
    {
      "cell_type": "code",
      "metadata": {
        "id": "j9zE2dsRdHAn",
        "colab_type": "code",
        "outputId": "b15eec55-6cab-4025-e7c7-0a8d27976b64",
        "colab": {
          "base_uri": "https://localhost:8080/",
          "height": 295
        }
      },
      "source": [
        "X=data['Close']\n",
        "Y=datacrud['Total Value (Lacs)']/100\n",
        "plt.xlabel('Stock Price')\n",
        "plt.ylabel('Crude Oil Total Price')\n",
        "plt.title('Stock Price Vs Crude Oil')\n",
        "plt.scatter(X,Y)\n",
        "plt.show()"
      ],
      "execution_count": 0,
      "outputs": [
        {
          "output_type": "display_data",
          "data": {
            "image/png": "[encoded data removed]",
            "text/plain": [
              "<Figure size 432x288 with 1 Axes>"
            ]
          },
          "metadata": {
            "tags": [],
            "needs_background": "light"
          }
        }
      ]
    },
    {
      "cell_type": "markdown",
      "metadata": {
        "id": "ETFjcooXEOlG",
        "colab_type": "text"
      },
      "source": [
        "* Here I have used sklearn.model_selection to split data into training and testing \n",
        "* The splitted data is build using the Linea Regression model from sklearn.model_selection"
      ]
    },
    {
      "cell_type": "code",
      "metadata": {
        "id": "7fVL7YmydyR0",
        "colab_type": "code",
        "colab": {}
      },
      "source": [
        "import numpy as np\n",
        "from sklearn.model_selection import train_test_split\n",
        "X=X.values.reshape(-1,1)\n",
        "y=Y.values.reshape(-1,1)\n",
        "X_train,X_test,y_train,y_test=train_test_split(X,y,test_size=0.15)"
      ],
      "execution_count": 0,
      "outputs": []
    },
    {
      "cell_type": "markdown",
      "metadata": {
        "id": "Z7Q14GYkEtVr",
        "colab_type": "text"
      },
      "source": [
        "* The LR model build is fitted with the training data \n",
        "* The testing set is used to test and find out the correlation coefficients and the Mean Squared Error"
      ]
    },
    {
      "cell_type": "code",
      "metadata": {
        "id": "kFgTZj9XeDV8",
        "colab_type": "code",
        "outputId": "f799e70d-67cf-4284-b766-bdba932615e0",
        "colab": {
          "base_uri": "https://localhost:8080/",
          "height": 34
        }
      },
      "source": [
        "from sklearn.linear_model import LinearRegression\n",
        "LR=LinearRegression()\n",
        "LR.fit(X_train,y_train)\n",
        "prediction=LR.predict(X_test)\n",
        "from sklearn.metrics import mean_squared_error,r2_score\n",
        "print(f'Mean Squared Error:{mean_squared_error(y_test,prediction)}')"
      ],
      "execution_count": 0,
      "outputs": [
        {
          "output_type": "stream",
          "text": [
            "Mean Squared Error:41192373.78461912\n"
          ],
          "name": "stdout"
        }
      ]
    },
    {
      "cell_type": "markdown",
      "metadata": {
        "id": "BoQMIS9FE_x0",
        "colab_type": "text"
      },
      "source": [
        "* Let's Plot the predicted model and see the results\n",
        "* The coefficient of determination shows that the model is somewhat ok "
      ]
    },
    {
      "cell_type": "code",
      "metadata": {
        "id": "GcJXA2S6enBc",
        "colab_type": "code",
        "outputId": "84749df2-922b-4efe-c1cf-615ac1742b52",
        "colab": {
          "base_uri": "https://localhost:8080/",
          "height": 265
        }
      },
      "source": [
        "plt.scatter(X_test,y_test,color='green')\n",
        "plt.plot(X_test,prediction,label='Linear Regression')\n",
        "plt.legend()\n",
        "plt.show()"
      ],
      "execution_count": 0,
      "outputs": [
        {
          "output_type": "display_data",
          "data": {
            "image/png": "[encoded data removed]",
            "text/plain": [
              "<Figure size 432x288 with 1 Axes>"
            ]
          },
          "metadata": {
            "tags": [],
            "needs_background": "light"
          }
        }
      ]
    },
    {
      "cell_type": "code",
      "metadata": {
        "id": "dx-RVYDreuHc",
        "colab_type": "code",
        "outputId": "16916a00-8fa4-4f9c-e306-4b5d0dc9d532",
        "colab": {
          "base_uri": "https://localhost:8080/",
          "height": 50
        }
      },
      "source": [
        "print(f'Coefficients:{LR.coef_}')\n",
        "print(f'Coefficient of determination:{r2_score(y_test,prediction)}')"
      ],
      "execution_count": 0,
      "outputs": [
        {
          "output_type": "stream",
          "text": [
            "Coefficients:[[4.3048857]]\n",
            "Coefficient of determination:0.48336849657943526\n"
          ],
          "name": "stdout"
        }
      ]
    }
  ]
}