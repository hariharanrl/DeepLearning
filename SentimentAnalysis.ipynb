{
  "nbformat": 4,
  "nbformat_minor": 0,
  "metadata": {
    "colab": {
      "provenance": [],
      "authorship_tag": "ABX9TyMjlAGTHIlU4zcP0wyCXygU",
      "include_colab_link": true
    },
    "kernelspec": {
      "name": "python3",
      "display_name": "Python 3"
    },
    "language_info": {
      "name": "python"
    }
  },
  "cells": [
    {
      "cell_type": "markdown",
      "metadata": {
        "id": "view-in-github",
        "colab_type": "text"
      },
      "source": [
        "<a href=\"https://colab.research.google.com/github/hariharanrl/DeepLearning/blob/master/SentimentAnalysis.ipynb\" target=\"_parent\"><img src=\"https://colab.research.google.com/assets/colab-badge.svg\" alt=\"Open In Colab\"/></a>"
      ]
    },
    {
      "cell_type": "code",
      "execution_count": null,
      "metadata": {
        "id": "fpbWRhjVp3Bk"
      },
      "outputs": [],
      "source": [
        "!pip install -q FastAPI\n",
        "!pip install -q vaderSentiment\n",
        "from fastapi import FastAPI\n",
        "from pydantic import BaseModel\n",
        "from textblob import TextBlob\n",
        "from vaderSentiment.vaderSentiment import SentimentIntensityAnalyzer\n",
        "\n",
        "\n",
        "app = FastAPI()\n",
        "\n",
        "vader_analyzer = SentimentIntensityAnalyzer()\n",
        "\n",
        "class Review(Model):\n",
        "    product_id: str\n",
        "    review_id: str\n",
        "    review_text: str\n",
        "    expected_sentiment: str\n",
        "    method: str = \"textblob\"\n",
        "\n",
        "def analyze_sentiment_textblob(review: str):\n",
        "    analysis = TextBlob(review)\n",
        "    polarity = analysis.sentiment.polarity\n",
        "    if polarity > 0:\n",
        "        return \"positive\"\n",
        "    elif polarity == 0:\n",
        "        return \"neutral\"\n",
        "    else:\n",
        "        return \"negative\"\n",
        "\n",
        "def analyze_sentiment_vader(review: str):\n",
        "    score = vader_analyzer.polarity_scores(review)\n",
        "    compound = score['compound']\n",
        "    if compound >= 0.05:\n",
        "        return \"positive\"\n",
        "    elif compound <= -0.05:\n",
        "        return \"negative\"\n",
        "    else:\n",
        "        return \"neutral\"\n",
        "\n",
        "@app.post(\"/analyze/\")\n",
        "def analyze_review(review: Review):\n",
        "    if review.method == \"textblob\":\n",
        "        sentiment = analyze_sentiment_textblob(review.text)\n",
        "    elif review.method == \"vader\":\n",
        "        sentiment = analyze_sentiment_vader(review.text)\n",
        "    else:\n",
        "        return {\"error\": \"Invalid method.\"}\n",
        "\n",
        "    response = {\n",
        "        \"product_id\": review.product_id,\n",
        "        \"review_id\": review.review_id,\n",
        "        \"review_text\": review.review_text,\n",
        "        \"expected_sentiment\": review.expected_sentiment,\n",
        "        \"actual_sentiment\": sentiment,\n",
        "        \"method\": review.method\n",
        "    }\n",
        "\n",
        "    return response"
      ]
    }
  ]
}